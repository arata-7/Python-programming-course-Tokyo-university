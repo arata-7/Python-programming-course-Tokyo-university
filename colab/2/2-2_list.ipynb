{
  "nbformat": 4,
  "nbformat_minor": 0,
  "metadata": {
    "kernelspec": {
      "display_name": "Python 3",
      "language": "python",
      "name": "python3"
    },
    "language_info": {
      "name": ""
    },
    "colab": {
      "name": "2-2.ipynb",
      "provenance": [],
      "include_colab_link": true
    }
  },
  "cells": [
    {
      "cell_type": "markdown",
      "metadata": {
        "id": "view-in-github",
        "colab_type": "text"
      },
      "source": [
        "<a href=\"https://colab.research.google.com/github/arata-7/Python-programming-course-Tokyo-university/blob/main/colab/2/2-2_list.ipynb\" target=\"_parent\"><img src=\"https://colab.research.google.com/assets/colab-badge.svg\" alt=\"Open In Colab\"/></a>"
      ]
    },
    {
      "cell_type": "markdown",
      "metadata": {
        "id": "7ANN-TQlqLbu"
      },
      "source": [
        "# 2-2. リスト (list)\n",
        "\n",
        "複数のデータを要素としてまとめて取り扱うデータとして、リストとタプルについて説明します。\n",
        "\n",
        "参考\n",
        "\n",
        "- https://docs.python.org/ja/3/tutorial/introduction.html#lists\n",
        "- https://docs.python.org/ja/3/tutorial/datastructures.html#tuples-and-sequences\n",
        "\n",
        "文字列を構成する要素は文字のみでしたが、**リスト**では構成する要素としてあらゆる型のデータを指定できます。\n",
        "他のプログラミング言語では、リストに相当するものとして**配列**（もしくはアレイ）やベクターなどがあります。\n",
        "\n",
        "リストを作成するには、リストを構成する要素をコンマで区切り全体をかぎ括弧 `[...]` で囲みます。  \n",
        "\n",
        "以下のセルでは数値を要素とするリストを作成して、変数に代入しています。\n",
        "さらに、文字列と同様に組み込み関数 `type` を用いて、変数の値がリストであることを確認しています。"
      ]
    },
    {
      "cell_type": "code",
      "metadata": {
        "id": "gQ8vqMAMqLbw",
        "outputId": "37ce8fbb-948d-4869-a5fc-d8f945e255eb",
        "colab": {
          "base_uri": "https://localhost:8080/"
        }
      },
      "source": [
        "numbers = [0, 10, 20, 30, 40, 50]\n",
        "numbers"
      ],
      "execution_count": 2,
      "outputs": [
        {
          "output_type": "execute_result",
          "data": {
            "text/plain": [
              "[0, 10, 20, 30, 40, 50]"
            ]
          },
          "metadata": {
            "tags": []
          },
          "execution_count": 2
        }
      ]
    },
    {
      "cell_type": "code",
      "metadata": {
        "id": "MfYcDByJqLbx",
        "outputId": "cccfea2c-ba13-4a48-84b7-eeab4437b3c2",
        "colab": {
          "base_uri": "https://localhost:8080/"
        }
      },
      "source": [
        "type(numbers)"
      ],
      "execution_count": 3,
      "outputs": [
        {
          "output_type": "execute_result",
          "data": {
            "text/plain": [
              "list"
            ]
          },
          "metadata": {
            "tags": []
          },
          "execution_count": 3
        }
      ]
    },
    {
      "cell_type": "markdown",
      "metadata": {
        "id": "mOADyR1lqLbx"
      },
      "source": [
        "リストのデータ型は **`list`** です。\n",
        "（なお、後で見るように、`list` は他のデータをリストに変換する関数としても用いられます。）\n",
        "\n",
        "次に文字列を構成要素とするリストを作成してみます。"
      ]
    },
    {
      "cell_type": "code",
      "metadata": {
        "id": "fc0-G6BMqLby"
      },
      "source": [
        "fruits = ['apple', 'banana', 'chelly']\n",
        "fruits"
      ],
      "execution_count": null,
      "outputs": []
    },
    {
      "cell_type": "markdown",
      "metadata": {
        "id": "cDA6DpAgqLby"
      },
      "source": [
        "リストの要素としてあらゆる型のデータを指定でき、それらは混在してもかまいません。\n",
        "以下のセルでは、数値と文字列が混在しています。"
      ]
    },
    {
      "cell_type": "code",
      "metadata": {
        "id": "4Z7ssfc6qLby",
        "outputId": "71332076-e368-41a8-cdd6-8c26c6b81b13",
        "colab": {
          "base_uri": "https://localhost:8080/"
        }
      },
      "source": [
        "numbers_fruits = [10, 'apple', 20, 'banana', 30]\n",
        "numbers_fruits"
      ],
      "execution_count": 4,
      "outputs": [
        {
          "output_type": "execute_result",
          "data": {
            "text/plain": [
              "[10, 'apple', 20, 'banana', 30]"
            ]
          },
          "metadata": {
            "tags": []
          },
          "execution_count": 4
        }
      ]
    },
    {
      "cell_type": "markdown",
      "metadata": {
        "id": "5IlNqXS3qLby"
      },
      "source": [
        "次のように、何も要素を格納していないリスト（**空リスト**）を作成できます。\n",
        "空リストはプログラム実行の途中結果を記録する場合などによく使われています。\n",
        "具体的な例については、後述する `append` メソッドの項を参照してください。"
      ]
    },
    {
      "cell_type": "code",
      "metadata": {
        "id": "MTYvM95MqLbz",
        "outputId": "63628e9e-1738-4560-d855-b1831dc525ba",
        "colab": {
          "base_uri": "https://localhost:8080/"
        }
      },
      "source": [
        "empty=[]\n",
        "empty"
      ],
      "execution_count": 5,
      "outputs": [
        {
          "output_type": "execute_result",
          "data": {
            "text/plain": [
              "[]"
            ]
          },
          "metadata": {
            "tags": []
          },
          "execution_count": 5
        }
      ]
    },
    {
      "cell_type": "markdown",
      "metadata": {
        "id": "7mOUTpoLqLbz"
      },
      "source": [
        "なお、`[]` を用いて空リストを作成するたびに、\n",
        "常に新しいオブジェクト（それまでに作られたオブジェクトとは同一でないオブジェクト）が生成されます。\n",
        "詳しくは「▲オブジェクトの等価性と同一性」を参照してください。"
      ]
    },
    {
      "cell_type": "markdown",
      "metadata": {
        "id": "9kz_V0WkqLbz"
      },
      "source": [
        "## リストとインデックス\n",
        "文字列の場合と同様に、インデックスを指定してリストの要素を取り出せます。\n",
        "リストの `x` 番目の要素を取得するには次のような記法を用います。\n",
        "インデックスは 0 から始まることに注意してください。\n",
        "\n",
        "```Python\n",
        "リスト[x-1]\n",
        "```"
      ]
    },
    {
      "cell_type": "code",
      "metadata": {
        "id": "KSYPycJLqLb2",
        "outputId": "c693f355-b9ed-4d06-857a-92c3815cae8c",
        "colab": {
          "base_uri": "https://localhost:8080/",
          "height": 35
        }
      },
      "source": [
        "abcd = ['a', 'b', 'c', 'd']\n",
        "abcd[2]"
      ],
      "execution_count": 6,
      "outputs": [
        {
          "output_type": "execute_result",
          "data": {
            "application/vnd.google.colaboratory.intrinsic+json": {
              "type": "string"
            },
            "text/plain": [
              "'c'"
            ]
          },
          "metadata": {
            "tags": []
          },
          "execution_count": 6
        }
      ]
    },
    {
      "cell_type": "markdown",
      "metadata": {
        "id": "Ml95JrLMqLb2"
      },
      "source": [
        "文字列の場合とは異なり、リストは変更可能なデータです。\n",
        "すなわちインデックスで指定されるリストの要素は、代入によって変更できます。"
      ]
    },
    {
      "cell_type": "code",
      "metadata": {
        "id": "5920UW4FqLb3",
        "outputId": "f149d536-449c-4d87-9c36-1468397affca",
        "colab": {
          "base_uri": "https://localhost:8080/"
        }
      },
      "source": [
        "abcd = ['a', 'b', 'c', 'd']\n",
        "abcd[2] = 'hello'\n",
        "abcd"
      ],
      "execution_count": 7,
      "outputs": [
        {
          "output_type": "execute_result",
          "data": {
            "text/plain": [
              "['a', 'b', 'hello', 'd']"
            ]
          },
          "metadata": {
            "tags": []
          },
          "execution_count": 7
        }
      ]
    },
    {
      "cell_type": "markdown",
      "metadata": {
        "id": "RZ_s4G0pqLb3"
      },
      "source": [
        "文字列と同様に、スライスを使った範囲指定も可能です。"
      ]
    },
    {
      "cell_type": "code",
      "metadata": {
        "id": "PWajF61gqLb3",
        "outputId": "938e8872-2f71-47e5-a13e-952e2acc1913",
        "colab": {
          "base_uri": "https://localhost:8080/"
        }
      },
      "source": [
        "abcd = ['a', 'b', 'c', 'd']\n",
        "abcd[1:3]"
      ],
      "execution_count": 8,
      "outputs": [
        {
          "output_type": "execute_result",
          "data": {
            "text/plain": [
              "['b', 'c']"
            ]
          },
          "metadata": {
            "tags": []
          },
          "execution_count": 8
        }
      ]
    },
    {
      "cell_type": "code",
      "metadata": {
        "id": "Kpk5JUqZqLb3",
        "outputId": "e6f6175b-7304-4cbe-ecf9-6060551bbc53",
        "colab": {
          "base_uri": "https://localhost:8080/"
        }
      },
      "source": [
        "abcd = ['a', 'b', 'c', 'd']\n",
        "abcd[0:4:2]"
      ],
      "execution_count": 9,
      "outputs": [
        {
          "output_type": "execute_result",
          "data": {
            "text/plain": [
              "['a', 'c']"
            ]
          },
          "metadata": {
            "tags": []
          },
          "execution_count": 9
        }
      ]
    },
    {
      "cell_type": "markdown",
      "metadata": {
        "id": "ZNXt7m2vqLb4"
      },
      "source": [
        "リストのスライスに対しては、代入も可能です。"
      ]
    },
    {
      "cell_type": "code",
      "metadata": {
        "id": "p0ACoEvSqLb4",
        "outputId": "cc95efd5-226f-4c38-d14d-f79d91cf6992",
        "colab": {
          "base_uri": "https://localhost:8080/"
        }
      },
      "source": [
        "abcd = ['a', 'b', 'c', 'd']\n",
        "abcd[1:3] = ['x', 'y', 'z']\n",
        "abcd"
      ],
      "execution_count": 11,
      "outputs": [
        {
          "output_type": "execute_result",
          "data": {
            "text/plain": [
              "['a', 'x', 'y', 'z', 'd']"
            ]
          },
          "metadata": {
            "tags": []
          },
          "execution_count": 11
        }
      ]
    },
    {
      "cell_type": "markdown",
      "metadata": {
        "id": "yqXfERrnqLb4"
      },
      "source": [
        "## 練習\n",
        "リスト `ln` を引数として取り、`ln` の偶数番目のインデックスの値を削除したリストを返す関数 `remove_evenindex` を作成してください（ただし、0 は偶数として扱うものとします）。\n",
        "\n",
        "ヒント：スライスを使います。\n",
        "\n",
        "以下のセルの `...` のところを書き換えて `remove_evenindex(ln)` を作成してください。"
      ]
    },
    {
      "cell_type": "code",
      "metadata": {
        "id": "p3hKHjbLqLb4"
      },
      "source": [
        "def remove_evenindex(ln):\n",
        "    ln2 = ln[1::2]\n",
        "    return ln2"
      ],
      "execution_count": 25,
      "outputs": []
    },
    {
      "cell_type": "markdown",
      "metadata": {
        "id": "7Tpi3ivHqLb4"
      },
      "source": [
        "上のセルで解答を作成した後、以下のセルを実行し、実行結果が全て `True` になることを確認してください。"
      ]
    },
    {
      "cell_type": "code",
      "metadata": {
        "tags": [
          "raises-exception"
        ],
        "id": "GXGpMYMwqLb5",
        "outputId": "70f3d0c3-6278-453e-9f6e-a946812fe0a9",
        "colab": {
          "base_uri": "https://localhost:8080/"
        }
      },
      "source": [
        "print(remove_evenindex(['a', 'b', 'c', 'd', 'e', 'f', 'g']) == ['b', 'd', 'f'] )\n",
        "print(remove_evenindex([1, 2, 3, 4, 5]) == [2, 4])"
      ],
      "execution_count": 26,
      "outputs": [
        {
          "output_type": "stream",
          "text": [
            "True\n",
            "True\n"
          ],
          "name": "stdout"
        }
      ]
    },
    {
      "cell_type": "markdown",
      "metadata": {
        "id": "4sSID6xwqLb5"
      },
      "source": [
        "## **多重リスト**\n",
        "リストの要素としてリストを指定することもできます。\n",
        "リストを要素とするリストは多重リストと呼ばれます。\n",
        "次は二重リストの例です。"
      ]
    },
    {
      "cell_type": "code",
      "metadata": {
        "id": "guyprZ3rqLb5"
      },
      "source": [
        "lns = [[1, 2, 3], [10, 20, 30], ['a', 'b', 'c']]"
      ],
      "execution_count": 28,
      "outputs": []
    },
    {
      "cell_type": "markdown",
      "metadata": {
        "id": "v_wxcw62qLb5"
      },
      "source": [
        "多重リストの要素指定は複数のインデックスで行います。\n",
        "前の例で外側の `[]` で示されるリストの2番目の要素のリスト、\n",
        "すなわち `[10, 20, 30]` の最初の要素は次のように指定します。 "
      ]
    },
    {
      "cell_type": "code",
      "metadata": {
        "id": "LEpAhqjGqLb5",
        "outputId": "c7407098-c339-4b4e-af1a-3ecfcf849640",
        "colab": {
          "base_uri": "https://localhost:8080/"
        }
      },
      "source": [
        "lns[1][0]"
      ],
      "execution_count": 29,
      "outputs": [
        {
          "output_type": "execute_result",
          "data": {
            "text/plain": [
              "10"
            ]
          },
          "metadata": {
            "tags": []
          },
          "execution_count": 29
        }
      ]
    },
    {
      "cell_type": "markdown",
      "metadata": {
        "id": "_RQfnQaZqLb5"
      },
      "source": [
        "3番目のリストそのものを取り出したいときは、次のように指定します。"
      ]
    },
    {
      "cell_type": "code",
      "metadata": {
        "id": "_KcBTV1QqLb6",
        "outputId": "285b413b-4cb2-488f-a992-d5e12440c4c9",
        "colab": {
          "base_uri": "https://localhost:8080/"
        }
      },
      "source": [
        "lns[2]"
      ],
      "execution_count": 30,
      "outputs": [
        {
          "output_type": "execute_result",
          "data": {
            "text/plain": [
              "['a', 'b', 'c']"
            ]
          },
          "metadata": {
            "tags": []
          },
          "execution_count": 30
        }
      ]
    },
    {
      "cell_type": "markdown",
      "metadata": {
        "id": "vSowKnEQqLb6"
      },
      "source": [
        "以下のようにリストの要素として、リストを値とする変数を指定することもできます。"
      ]
    },
    {
      "cell_type": "code",
      "metadata": {
        "id": "zOYxv53_qLb6",
        "outputId": "50d8b22f-d696-4e1e-a1cc-d62d7a469369",
        "colab": {
          "base_uri": "https://localhost:8080/"
        }
      },
      "source": [
        "lns2 = [lns, ['x', 1, [11, 12, 13]], ['y', [100, 120, 140]] ]\n",
        "lns2"
      ],
      "execution_count": 31,
      "outputs": [
        {
          "output_type": "execute_result",
          "data": {
            "text/plain": [
              "[[[1, 2, 3], [10, 20, 30], ['a', 'b', 'c']],\n",
              " ['x', 1, [11, 12, 13]],\n",
              " ['y', [100, 120, 140]]]"
            ]
          },
          "metadata": {
            "tags": []
          },
          "execution_count": 31
        }
      ]
    },
    {
      "cell_type": "code",
      "metadata": {
        "id": "dyXZTXHRqLb6",
        "outputId": "cfdef2f3-b33d-44e4-b896-07c1129e318b",
        "colab": {
          "base_uri": "https://localhost:8080/"
        }
      },
      "source": [
        "lns2[0]"
      ],
      "execution_count": 32,
      "outputs": [
        {
          "output_type": "execute_result",
          "data": {
            "text/plain": [
              "[[1, 2, 3], [10, 20, 30], ['a', 'b', 'c']]"
            ]
          },
          "metadata": {
            "tags": []
          },
          "execution_count": 32
        }
      ]
    },
    {
      "cell_type": "markdown",
      "metadata": {
        "id": "3tk-e-FQqLb6"
      },
      "source": [
        "## リストに対する関数・演算子・メソッド\n",
        "\n",
        "### リストの要素数\n",
        "\n",
        "組み込み関数 **`len`** はリストの長さ、すなわち要素数、を返します。"
      ]
    },
    {
      "cell_type": "code",
      "metadata": {
        "id": "nvBMMHBFqLb6",
        "outputId": "5139505d-1c98-4473-b136-7ca2e7a18b84",
        "colab": {
          "base_uri": "https://localhost:8080/"
        }
      },
      "source": [
        "numbers = [0, 10, 20, 30, 40, 50]\n",
        "len(numbers)"
      ],
      "execution_count": 33,
      "outputs": [
        {
          "output_type": "execute_result",
          "data": {
            "text/plain": [
              "6"
            ]
          },
          "metadata": {
            "tags": []
          },
          "execution_count": 33
        }
      ]
    },
    {
      "cell_type": "markdown",
      "metadata": {
        "id": "lm2FrYcPqLb7"
      },
      "source": [
        "### 練習\n",
        "\n",
        "英語の１文からなる文字列 `str_engsentence` が引数として与えられたとき、`str_engsentence` 中に含まれる単語数を返す関数 `count_words` を作成してください。ただし、文はピリオドで終了し単語は空白で区切られるものとします。\n",
        "\n",
        "ヒント：文字列に対する `split` メソッドを使います。\n",
        "\n",
        "以下のセルの `...` のところを書き換えて `count_words(str_engsentence)` を作成してください。"
      ]
    },
    {
      "cell_type": "code",
      "metadata": {
        "id": "tz4OVcHjqLb7"
      },
      "source": [
        "def count_words(str_engsentence):\n",
        "    words = str_engsentence.split(' ')\n",
        "    return len(words)"
      ],
      "execution_count": 35,
      "outputs": []
    },
    {
      "cell_type": "markdown",
      "metadata": {
        "id": "bjDr2vR6qLb7"
      },
      "source": [
        "上のセルで解答を作成した後、以下のセルを実行し、実行結果が `True` になることを確認してください。"
      ]
    },
    {
      "cell_type": "code",
      "metadata": {
        "tags": [
          "raises-exception"
        ],
        "id": "TnAzRoNmqLb7",
        "outputId": "a809f9f7-418d-419c-9945-9cc67068b716",
        "colab": {
          "base_uri": "https://localhost:8080/"
        }
      },
      "source": [
        "print(count_words('From Stettin in the Baltic to Trieste in the Adriatic an iron curtain has descended across the Continent.') == 18)"
      ],
      "execution_count": 36,
      "outputs": [
        {
          "output_type": "stream",
          "text": [
            "True\n"
          ],
          "name": "stdout"
        }
      ]
    },
    {
      "cell_type": "markdown",
      "metadata": {
        "id": "EAiaS6g7qLb7"
      },
      "source": [
        "### `max` と `min`\n",
        "\n",
        "リストを引数とする関数は色々とあります。\n",
        "関数 **`max`** は、数のリストが与えられると、その中の最大値を返します。\n",
        "同様に関数 **`min`** はリストの中の最小値を返します。"
      ]
    },
    {
      "cell_type": "code",
      "metadata": {
        "id": "aqk1A8dWqLb8",
        "outputId": "acbc5ab6-9031-4d7f-df34-8348c407cf2a",
        "colab": {
          "base_uri": "https://localhost:8080/"
        }
      },
      "source": [
        "numbers = [30, 50, 10, 20, 40, 60]\n",
        "max(numbers)"
      ],
      "execution_count": 37,
      "outputs": [
        {
          "output_type": "execute_result",
          "data": {
            "text/plain": [
              "60"
            ]
          },
          "metadata": {
            "tags": []
          },
          "execution_count": 37
        }
      ]
    },
    {
      "cell_type": "code",
      "metadata": {
        "id": "_Tk2HjmTqLb8",
        "outputId": "dc78316e-e9e3-4455-ac3b-139a5c792e8d",
        "colab": {
          "base_uri": "https://localhost:8080/"
        }
      },
      "source": [
        "numbers = [30, 50, 10, 20, 40, 60]\n",
        "min(numbers)"
      ],
      "execution_count": 38,
      "outputs": [
        {
          "output_type": "execute_result",
          "data": {
            "text/plain": [
              "10"
            ]
          },
          "metadata": {
            "tags": []
          },
          "execution_count": 38
        }
      ]
    },
    {
      "cell_type": "markdown",
      "metadata": {
        "id": "Ko7r-f0OqLb8"
      },
      "source": [
        "`max` と `min` は文字列のリストに対しても適用できます。文字列の比較は、いわゆる辞書順で行われます。"
      ]
    },
    {
      "cell_type": "code",
      "metadata": {
        "id": "A3cWN9dtqLb8",
        "outputId": "0da9037b-fc61-4e9e-970c-7c53cfd3e1b7",
        "colab": {
          "base_uri": "https://localhost:8080/",
          "height": 35
        }
      },
      "source": [
        "characters = ['e', 'd', 'a', 'c', 'f', 'b']\n",
        "min(characters)"
      ],
      "execution_count": 41,
      "outputs": [
        {
          "output_type": "execute_result",
          "data": {
            "application/vnd.google.colaboratory.intrinsic+json": {
              "type": "string"
            },
            "text/plain": [
              "'a'"
            ]
          },
          "metadata": {
            "tags": []
          },
          "execution_count": 41
        }
      ]
    },
    {
      "cell_type": "markdown",
      "metadata": {
        "id": "6MpcC58UqLb8"
      },
      "source": [
        "### `sum`\n",
        "\n",
        "関数 **`sum`** は、数のリストが与えられると、その要素の総和を返します。"
      ]
    },
    {
      "cell_type": "code",
      "metadata": {
        "id": "wV-BqsdxqLb8",
        "outputId": "638fd227-bc76-4206-de0d-2c233860e33e",
        "colab": {
          "base_uri": "https://localhost:8080/"
        }
      },
      "source": [
        "numbers = [30, 50, 10, 20, 40, 60]\n",
        "sum(numbers)"
      ],
      "execution_count": 42,
      "outputs": [
        {
          "output_type": "execute_result",
          "data": {
            "text/plain": [
              "210"
            ]
          },
          "metadata": {
            "tags": []
          },
          "execution_count": 42
        }
      ]
    },
    {
      "cell_type": "code",
      "metadata": {
        "id": "JvwS812CqLb9",
        "outputId": "08805e89-7518-4199-93b5-deb699d32876",
        "colab": {
          "base_uri": "https://localhost:8080/"
        }
      },
      "source": [
        "sum([])"
      ],
      "execution_count": 43,
      "outputs": [
        {
          "output_type": "execute_result",
          "data": {
            "text/plain": [
              "0"
            ]
          },
          "metadata": {
            "tags": []
          },
          "execution_count": 43
        }
      ]
    },
    {
      "cell_type": "markdown",
      "metadata": {
        "id": "RHR1Sy25qLb9"
      },
      "source": [
        "### リストと演算子"
      ]
    },
    {
      "cell_type": "markdown",
      "metadata": {
        "id": "PuCAYdaqqLb9"
      },
      "source": [
        "演算子 **`+`** によってリストの連結、**`*`** によって連結における繰り返し回数を指定することができます。"
      ]
    },
    {
      "cell_type": "code",
      "metadata": {
        "id": "ZUEiXLR2qLb9",
        "outputId": "ae7a1834-2d0c-4f88-fb24-4ef4dc084354",
        "colab": {
          "base_uri": "https://localhost:8080/"
        }
      },
      "source": [
        "numbers = [0, 10, 20, 30, 40, 50]\n",
        "numbers + ['a', 'b', 'c']"
      ],
      "execution_count": 44,
      "outputs": [
        {
          "output_type": "execute_result",
          "data": {
            "text/plain": [
              "[0, 10, 20, 30, 40, 50, 'a', 'b', 'c']"
            ]
          },
          "metadata": {
            "tags": []
          },
          "execution_count": 44
        }
      ]
    },
    {
      "cell_type": "code",
      "metadata": {
        "id": "m7g2rCWdqLb-",
        "outputId": "d4c8a892-e0ee-47f9-9dcd-dc02ad8e7ed4",
        "colab": {
          "base_uri": "https://localhost:8080/"
        }
      },
      "source": [
        "numbers*3"
      ],
      "execution_count": 46,
      "outputs": [
        {
          "output_type": "execute_result",
          "data": {
            "text/plain": [
              "[0, 10, 20, 30, 40, 50, 0, 10, 20, 30, 40, 50, 0, 10, 20, 30, 40, 50]"
            ]
          },
          "metadata": {
            "tags": []
          },
          "execution_count": 46
        }
      ]
    },
    {
      "cell_type": "markdown",
      "metadata": {
        "id": "e_sAgcMVqLb-"
      },
      "source": [
        "要素が全て同じ値（たとえば、`0` ）のリストを作る最も簡単な方法は、この `*` 演算子を使う方法です。"
      ]
    },
    {
      "cell_type": "code",
      "metadata": {
        "id": "RG9eLI9CqLb-",
        "outputId": "37320ac3-4c3a-42e9-bd7e-ecf0aed9c0e6",
        "colab": {
          "base_uri": "https://localhost:8080/"
        }
      },
      "source": [
        "zero10 = [0] * 10\n",
        "zero10"
      ],
      "execution_count": 47,
      "outputs": [
        {
          "output_type": "execute_result",
          "data": {
            "text/plain": [
              "[0, 0, 0, 0, 0, 0, 0, 0, 0, 0]"
            ]
          },
          "metadata": {
            "tags": []
          },
          "execution_count": 47
        }
      ]
    },
    {
      "cell_type": "markdown",
      "metadata": {
        "id": "YeTIFriWqLb-"
      },
      "source": [
        "`*` は `+` を繰り返し行うのと同じ結果を返します。\n",
        "たとえば、`x*3` は `x+x+x` と同じ結果を返します。\n",
        "\n",
        "`x` が多重リストのとき、`x` の要素であるリストが `y` の中に複数回現れます。"
      ]
    },
    {
      "cell_type": "code",
      "metadata": {
        "id": "Ar9YibihqLb-",
        "outputId": "47efb0c0-6ebb-44bb-dca1-c5161b98ef69",
        "colab": {
          "base_uri": "https://localhost:8080/"
        }
      },
      "source": [
        "x = [[0, 1], [2, 3]]\n",
        "y = x*3\n",
        "y"
      ],
      "execution_count": 48,
      "outputs": [
        {
          "output_type": "execute_result",
          "data": {
            "text/plain": [
              "[[0, 1], [2, 3], [0, 1], [2, 3], [0, 1], [2, 3]]"
            ]
          },
          "metadata": {
            "tags": []
          },
          "execution_count": 48
        }
      ]
    },
    {
      "cell_type": "markdown",
      "metadata": {
        "id": "DMXU76H2qLb_"
      },
      "source": [
        "このとき、`x` の要素が変更されると、`y` の中では複数箇所に変化が起こるので、注意してください。"
      ]
    },
    {
      "cell_type": "code",
      "metadata": {
        "id": "KuXFDZJdqLb_",
        "outputId": "56c04a8c-ceca-4bcc-b492-94fb62e1761a",
        "colab": {
          "base_uri": "https://localhost:8080/"
        }
      },
      "source": [
        "x[0][0] = 99\n",
        "y"
      ],
      "execution_count": 49,
      "outputs": [
        {
          "output_type": "execute_result",
          "data": {
            "text/plain": [
              "[[99, 1], [2, 3], [99, 1], [2, 3], [99, 1], [2, 3]]"
            ]
          },
          "metadata": {
            "tags": []
          },
          "execution_count": 49
        }
      ]
    },
    {
      "cell_type": "markdown",
      "metadata": {
        "id": "32Z-eLNRqLb_"
      },
      "source": [
        "これは、`y` の中の複数個所にあるオブジェクトが同一だからです。\n",
        "詳しくは、以下の「▲オブジェクトの等価性と同一性」を参照してください。"
      ]
    },
    {
      "cell_type": "markdown",
      "metadata": {
        "id": "chV99sbqqLb_"
      },
      "source": [
        "演算子 **`in`** は、左辺の要素がリストに含まれれば `True` を、それ以外では `False` を返します。"
      ]
    },
    {
      "cell_type": "code",
      "metadata": {
        "id": "IJl4zPlGqLb_",
        "outputId": "cb76597a-fe75-4bac-a957-d31ea2d198b8",
        "colab": {
          "base_uri": "https://localhost:8080/"
        }
      },
      "source": [
        "10 in numbers"
      ],
      "execution_count": 50,
      "outputs": [
        {
          "output_type": "execute_result",
          "data": {
            "text/plain": [
              "True"
            ]
          },
          "metadata": {
            "tags": []
          },
          "execution_count": 50
        }
      ]
    },
    {
      "cell_type": "markdown",
      "metadata": {
        "id": "3c8DeJ17qLcA"
      },
      "source": [
        "リストに対する `in` 演算子は、論理演算 `or` を簡潔に記述するのに用いることもできます。 たとえば、\n",
        "\n",
        "---\n",
        "```Python\n",
        "a1 == 1 or a1 == 3 or a1 == 7:\n",
        "```\n",
        "---\n",
        "\n",
        "は\n",
        "\n",
        "---\n",
        "```Python\n",
        "a1 in [1, 3, 7]:\n",
        "```\n",
        "---\n",
        "\n",
        "と同じ結果を得られます。 `or` の数が多くなる場合は、`in` を用いた方がより読みやすいプログラムを書くことができます。"
      ]
    },
    {
      "cell_type": "code",
      "metadata": {
        "id": "Bp1MwPU2qLcA",
        "outputId": "2940a051-aacb-46f2-9cab-c71dccc93c36",
        "colab": {
          "base_uri": "https://localhost:8080/"
        }
      },
      "source": [
        "a1 = 1\n",
        "print(a1 == 1 or a1 == 3 or a1 == 7, a1 in [1, 3, 7])\n",
        "a1 = 3\n",
        "print(a1 == 1 or a1 == 3 or a1 == 7, a1 in [1, 3, 7])\n",
        "a1 = 5\n",
        "print(a1 == 1 or a1 == 3 or a1 == 7, a1 in [1, 3, 7])"
      ],
      "execution_count": 51,
      "outputs": [
        {
          "output_type": "stream",
          "text": [
            "True True\n",
            "True True\n",
            "False False\n"
          ],
          "name": "stdout"
        }
      ]
    },
    {
      "cell_type": "markdown",
      "metadata": {
        "id": "fjV-fr8GqLcA"
      },
      "source": [
        "`in` 演算子は、左辺の要素がリストに含まれるかどうかを、\n",
        "リストの要素を最初から順に調べることで判定しています。\n",
        "したがって、リストの長さに比例した時間がかかります。\n",
        "つまり、リストの長さが大きければ、それなりの時間がかかることに注意してください。\n",
        "\n",
        "**`not in`** 演算子は、`in` 演算子の逆を意味します。"
      ]
    },
    {
      "cell_type": "code",
      "metadata": {
        "id": "9UhUlRxtqLcA",
        "outputId": "fc9a33e6-b667-429f-d034-10a510d43b50",
        "colab": {
          "base_uri": "https://localhost:8080/"
        }
      },
      "source": [
        "10 not in numbers"
      ],
      "execution_count": 52,
      "outputs": [
        {
          "output_type": "execute_result",
          "data": {
            "text/plain": [
              "False"
            ]
          },
          "metadata": {
            "tags": []
          },
          "execution_count": 52
        }
      ]
    },
    {
      "cell_type": "code",
      "metadata": {
        "id": "-irHE-b7qLcA",
        "outputId": "cf7efba7-447c-41d8-fb21-1a2ff0be2a9a",
        "colab": {
          "base_uri": "https://localhost:8080/"
        }
      },
      "source": [
        "11 not in numbers"
      ],
      "execution_count": 53,
      "outputs": [
        {
          "output_type": "execute_result",
          "data": {
            "text/plain": [
              "True"
            ]
          },
          "metadata": {
            "tags": []
          },
          "execution_count": 53
        }
      ]
    },
    {
      "cell_type": "markdown",
      "metadata": {
        "id": "Fdna5LueqLcA"
      },
      "source": [
        "### 指定した要素のインデックス取得と数えあげ\n",
        "\n",
        "**`index`** メソッドは引数で指定した要素のインデックスの番号を返します。\n",
        "文字列には `index` に加えてこれと似た `find` メソッドもありましたが、リストでは使えません。"
      ]
    },
    {
      "cell_type": "code",
      "metadata": {
        "id": "UjQVW-IhqLcB",
        "outputId": "4bcdf4e8-448d-4b07-9e6c-d7936e4807bb",
        "colab": {
          "base_uri": "https://localhost:8080/"
        }
      },
      "source": [
        "numbers = [0, 10, 20, 30, 40, 50]\n",
        "numbers.index(20) "
      ],
      "execution_count": 54,
      "outputs": [
        {
          "output_type": "execute_result",
          "data": {
            "text/plain": [
              "2"
            ]
          },
          "metadata": {
            "tags": []
          },
          "execution_count": 54
        }
      ]
    },
    {
      "cell_type": "markdown",
      "metadata": {
        "id": "RzeE8AiOqLcB"
      },
      "source": [
        "**`count`** メソッドは指定した要素の数を返します。"
      ]
    },
    {
      "cell_type": "code",
      "metadata": {
        "id": "0_flemEEqLcB",
        "outputId": "1cd1887b-aa59-41e7-d6d3-4ec0c572e604",
        "colab": {
          "base_uri": "https://localhost:8080/"
        }
      },
      "source": [
        "all20 = [20]*3\n",
        "all20.count(20) # 指定した要素のリスト内の数"
      ],
      "execution_count": 55,
      "outputs": [
        {
          "output_type": "execute_result",
          "data": {
            "text/plain": [
              "3"
            ]
          },
          "metadata": {
            "tags": []
          },
          "execution_count": 55
        }
      ]
    },
    {
      "cell_type": "markdown",
      "metadata": {
        "id": "nJdb4F9fqLcB"
      },
      "source": [
        "### 並べ替え（**`sort`** メソッド）\n",
        "\n",
        "`sort` メソッドはリスト内の要素を並べ替えます。\n",
        "引数に何も指定しなければ昇順でとなります。"
      ]
    },
    {
      "cell_type": "code",
      "metadata": {
        "id": "m-ye2WVhqLcB"
      },
      "source": [
        "numbers = [30, 50, 10, 20, 40, 60]\n",
        "numbers.sort()"
      ],
      "execution_count": 57,
      "outputs": []
    },
    {
      "cell_type": "code",
      "metadata": {
        "id": "vQgrdtC2qLcB"
      },
      "source": [
        "numbers"
      ],
      "execution_count": null,
      "outputs": []
    },
    {
      "cell_type": "code",
      "metadata": {
        "id": "BZU-IKRFqLcC",
        "outputId": "47bbc9a9-4647-4feb-d58d-47d6874a65b7",
        "colab": {
          "base_uri": "https://localhost:8080/"
        }
      },
      "source": [
        "chracters = ['e', 'd', 'a', 'c', 'f', 'b']\n",
        "chracters.sort()\n",
        "chracters"
      ],
      "execution_count": 60,
      "outputs": [
        {
          "output_type": "execute_result",
          "data": {
            "text/plain": [
              "['a', 'b', 'c', 'd', 'e', 'f']"
            ]
          },
          "metadata": {
            "tags": []
          },
          "execution_count": 60
        }
      ]
    },
    {
      "cell_type": "markdown",
      "metadata": {
        "id": "wMnpc54UqLcC"
      },
      "source": [
        "`reverse = True` オプションを指定すれば、要素を降順に並べ替えることもできます。\n",
        "（これは 3.3 のキーワード引数と呼ばれるものですが、ここでは天下り的に、\n",
        "並べ替えの方法を指定する情報と理解しておいてください。）"
      ]
    },
    {
      "cell_type": "code",
      "metadata": {
        "id": "PZI0CKMPqLcC",
        "outputId": "bd444793-9cfc-44ca-af79-b191bfd684e3",
        "colab": {
          "base_uri": "https://localhost:8080/"
        }
      },
      "source": [
        "numbers = [30, 50, 10, 20, 40, 60]\n",
        "numbers.sort(reverse = True)\n",
        "numbers"
      ],
      "execution_count": 61,
      "outputs": [
        {
          "output_type": "execute_result",
          "data": {
            "text/plain": [
              "[60, 50, 40, 30, 20, 10]"
            ]
          },
          "metadata": {
            "tags": []
          },
          "execution_count": 61
        }
      ]
    },
    {
      "cell_type": "markdown",
      "metadata": {
        "id": "ZkN9XW-YqLcC"
      },
      "source": [
        "### 並べ替え（**`sorted`** 組み込み関数）\n",
        "\n",
        "関数 `sorted` ではリストを引数に取って、そのリスト内の要素を昇順に並べ替えた結果をリストとして返します。\n",
        "\n",
        "---\n",
        "```Python\n",
        "sorted(リスト)\n",
        "```\n",
        "---"
      ]
    },
    {
      "cell_type": "code",
      "metadata": {
        "id": "zjTb0og0qLcC"
      },
      "source": [
        "numbers = [30, 50, 10, 20, 40, 60]\n",
        "sorted(numbers)"
      ],
      "execution_count": null,
      "outputs": []
    },
    {
      "cell_type": "markdown",
      "metadata": {
        "id": "OBn0aWwMqLcC"
      },
      "source": [
        "文字列の比較は、いわゆる辞書順で行われます。"
      ]
    },
    {
      "cell_type": "code",
      "metadata": {
        "id": "hw_3Gq19qLcD"
      },
      "source": [
        "characters = ['e', 'd', 'a', 'c', 'f', 'b']\n",
        "sorted(characters)"
      ],
      "execution_count": null,
      "outputs": []
    },
    {
      "cell_type": "markdown",
      "metadata": {
        "id": "ZyR4RrLDqLcD"
      },
      "source": [
        "`sorted` においても、 `reverse = True` と記述することで要素を降順に並べ替えることができます。"
      ]
    },
    {
      "cell_type": "code",
      "metadata": {
        "id": "oOhO31IEqLcD",
        "outputId": "459eae32-5448-4853-8fdd-f3ea36472c65",
        "colab": {
          "base_uri": "https://localhost:8080/"
        }
      },
      "source": [
        "numbers = [30, 50, 10, 20, 40, 60]\n",
        "sorted(numbers, reverse=True)"
      ],
      "execution_count": 63,
      "outputs": [
        {
          "output_type": "execute_result",
          "data": {
            "text/plain": [
              "[60, 50, 40, 30, 20, 10]"
            ]
          },
          "metadata": {
            "tags": []
          },
          "execution_count": 63
        }
      ]
    },
    {
      "cell_type": "markdown",
      "metadata": {
        "id": "Z5TjcZQ6qLcD"
      },
      "source": [
        "ついでですが、多重リストをソートするとどのような結果が得られるか確かめてみてください。"
      ]
    },
    {
      "cell_type": "code",
      "metadata": {
        "id": "n-Q8IkE1qLcD",
        "outputId": "f05361ae-fc44-45a1-8d98-513189bc0431",
        "colab": {
          "base_uri": "https://localhost:8080/"
        }
      },
      "source": [
        "lns = [[20, 5], [10, 30], [40, 20], [30, 10]]\n",
        "lns.sort()\n",
        "lns"
      ],
      "execution_count": 62,
      "outputs": [
        {
          "output_type": "execute_result",
          "data": {
            "text/plain": [
              "[[10, 30], [20, 5], [30, 10], [40, 20]]"
            ]
          },
          "metadata": {
            "tags": []
          },
          "execution_count": 62
        }
      ]
    },
    {
      "cell_type": "markdown",
      "metadata": {
        "id": "GTgrRkxmqLcD"
      },
      "source": [
        "## 破壊的（インプレース）な操作と非破壊的な生成"
      ]
    },
    {
      "cell_type": "markdown",
      "metadata": {
        "id": "sKbAziTyqLcD"
      },
      "source": [
        "上記では、`sort` メソッドと `sorted` 関数を紹介しましたが、両者の使い方が異なることに気が付きましたか？\n",
        "\n",
        "具体的には、` sort` メソッドでは元のリストが変更されています。\n",
        "一方、`sorted` 関数では元のリストはそのままになっています。もう一度確認してみましょう。"
      ]
    },
    {
      "cell_type": "code",
      "metadata": {
        "id": "zUEY9YuYqLcE",
        "outputId": "520aea6d-5a04-43d9-f663-90cc5cceaa0f",
        "colab": {
          "base_uri": "https://localhost:8080/"
        }
      },
      "source": [
        "numbers = [30, 50, 10, 20, 40, 60]\n",
        "numbers.sort()\n",
        "print('sortメソッドの実行後の元のリスト:', numbers)\n",
        "numbers = [30, 50, 10, 20, 40, 60]\n",
        "sorted(numbers)\n",
        "print('sorted関数の実行後の元のリスト:', numbers)"
      ],
      "execution_count": 64,
      "outputs": [
        {
          "output_type": "stream",
          "text": [
            "sortメソッドの実行後の元のリスト: [10, 20, 30, 40, 50, 60]\n",
            "sorted関数の実行後の元のリスト: [30, 50, 10, 20, 40, 60]\n"
          ],
          "name": "stdout"
        }
      ]
    },
    {
      "cell_type": "markdown",
      "metadata": {
        "id": "POahinngqLcE"
      },
      "source": [
        "このように、`sort` メソッドは元のリストを変更してしまいます。\n",
        "このような操作を**破壊的**あるいは**インプレース** (**in-place**) であるといいます。\n",
        "\n",
        "一方、`sorted` 関数は新しいリストを生成し元のリストを破壊しません、このような操作は**非破壊的**であるといいます。"
      ]
    },
    {
      "cell_type": "markdown",
      "metadata": {
        "id": "sYzUFZFaqLcE"
      },
      "source": [
        "`sorted` 関数を用いた場合、その返値（並べ替えの結果）は新しい変数に代入して使うことができます。  \n",
        "\n",
        "一方、`sort` メソッドはリストを返さないためそのような使い方はできません。"
      ]
    },
    {
      "cell_type": "code",
      "metadata": {
        "id": "J8ihoaWMqLcE"
      },
      "source": [
        "numbers = [30, 50, 10, 20, 40, 60]\n",
        "numbers1 = sorted(numbers)\n",
        "print('sorted関数の返値:', numbers1)\n",
        "\n",
        "numbers = [30, 50, 10, 20, 40, 60]\n",
        "numbers2 = numbers.sort()\n",
        "print('sortメソッドの返値:', numbers2)"
      ],
      "execution_count": null,
      "outputs": []
    },
    {
      "cell_type": "markdown",
      "metadata": {
        "id": "cOQGvxclqLcE"
      },
      "source": [
        "## リストを操作するメソッドなど\n",
        "\n",
        "ここからはリストを操作するためのメソッドなどを紹介していきます。\n",
        "\n",
        "メソッドや組み込み関数が破壊的であるかどうかは、一般にその名称などからは判断できません。\n",
        "それぞれ破壊的かどうか理解してから利用しなければなりません。\n",
        "\n",
        "なお、次の `append` メソッド以外は、必要に応じて参照すればよく、\n",
        "それ以降タプルの項まで飛ばして構いません。\n",
        "\n",
        "### リストに要素を追加する\n",
        "\n",
        "**`append`** メソッドはリストの最後尾に指定した要素を付け加えます。\n",
        "\n",
        "---\n",
        "```Python\n",
        "リスト.append(追加する要素) \n",
        "```\n",
        "---"
      ]
    },
    {
      "cell_type": "code",
      "metadata": {
        "id": "gcHhdr1yqLcF",
        "outputId": "031842ef-318a-4509-d4b2-3d7840115311",
        "colab": {
          "base_uri": "https://localhost:8080/"
        }
      },
      "source": [
        "numbers = [10, 20, 30, 40, 50]\n",
        "numbers.append(100)\n",
        "numbers"
      ],
      "execution_count": 65,
      "outputs": [
        {
          "output_type": "execute_result",
          "data": {
            "text/plain": [
              "[10, 20, 30, 40, 50, 100]"
            ]
          },
          "metadata": {
            "tags": []
          },
          "execution_count": 65
        }
      ]
    },
    {
      "cell_type": "markdown",
      "metadata": {
        "id": "YDaYigQzqLcF"
      },
      "source": [
        "`append` は、上述した空のリストと組み合わせて、あるリストから特定の条件を満たす要素のみからなる新たなリストを構成する、というような状況でしばしば用いられます。たとえば、リスト `numbers1 = [10, -10, 20, 30, -20, 40, -30]` から `0` より大きい要素のみを抜き出したリスト `positives` は次のように構成することができます。"
      ]
    },
    {
      "cell_type": "code",
      "metadata": {
        "id": "DcrlQ7dmqLcF",
        "outputId": "87d6a031-15a2-4139-e962-3ea651e659db",
        "colab": {
          "base_uri": "https://localhost:8080/"
        }
      },
      "source": [
        "numbers1 = [10, -10, 20, 30, -20, 40, -30] \n",
        "positives = [] # 空のリストを作成する\n",
        "positives.append(numbers1[0])\n",
        "positives.append(numbers1[2])\n",
        "positives.append(numbers1[3])\n",
        "positives.append(numbers1[5])\n",
        "positives"
      ],
      "execution_count": 66,
      "outputs": [
        {
          "output_type": "execute_result",
          "data": {
            "text/plain": [
              "[10, 20, 30, 40]"
            ]
          },
          "metadata": {
            "tags": []
          },
          "execution_count": 66
        }
      ]
    },
    {
      "cell_type": "markdown",
      "metadata": {
        "id": "rBGDC4RwqLcF"
      },
      "source": [
        "### ▲リストにリストの要素を追加する\n",
        "\n",
        " **`extend`** メソッドはリストの最後尾に指定したリストの要素を付け加えます。\n",
        "\n",
        "---\n",
        "```Python\n",
        "リスト.extend(追加するリスト) \n",
        "```\n",
        "---"
      ]
    },
    {
      "cell_type": "code",
      "metadata": {
        "id": "CxdJwVEWqLcF",
        "outputId": "9f0d852f-0f5f-4c9c-9a44-e8edc05fa246",
        "colab": {
          "base_uri": "https://localhost:8080/"
        }
      },
      "source": [
        "numbers = [10, 20, 30, 40, 50]\n",
        "numbers.extend([200, 300, 400, 200]) # numbers += [200, 300, 400, 200] と同じ\n",
        "numbers"
      ],
      "execution_count": 68,
      "outputs": [
        {
          "output_type": "execute_result",
          "data": {
            "text/plain": [
              "[10, 20, 30, 40, 50, 200, 300, 400, 200]"
            ]
          },
          "metadata": {
            "tags": []
          },
          "execution_count": 68
        }
      ]
    },
    {
      "cell_type": "markdown",
      "metadata": {
        "id": "-ebnu_dUqLcG"
      },
      "source": [
        "### ▲リストに要素を挿入する\n",
        "\n",
        "**insert** メソッドはリストのインデックスを指定した位置に新しい要素を挿入します。  \n",
        "\n",
        "---\n",
        "```Python\n",
        "リスト.insert(インデックス, 新しい要素)\n",
        "```\n",
        "---"
      ]
    },
    {
      "cell_type": "code",
      "metadata": {
        "id": "ogDwgaQPqLcG",
        "outputId": "3d6812cc-ddec-4ee4-8981-9933b00f8e09",
        "colab": {
          "base_uri": "https://localhost:8080/"
        }
      },
      "source": [
        "numbers = [10, 20, 30, 40, 50]\n",
        "numbers.insert(1, 1000)\n",
        "numbers"
      ],
      "execution_count": 69,
      "outputs": [
        {
          "output_type": "execute_result",
          "data": {
            "text/plain": [
              "[10, 1000, 20, 30, 40, 50]"
            ]
          },
          "metadata": {
            "tags": []
          },
          "execution_count": 69
        }
      ]
    },
    {
      "cell_type": "markdown",
      "metadata": {
        "id": "VNHLFLdLqLcG"
      },
      "source": [
        "### ▲リストから要素を削除する\n",
        "\n",
        "**`remove`** メソッドは指定した要素をリストから削除します。  \n",
        "\n",
        "---\n",
        "```Python\n",
        "リスト.remove(削除したい要素)\n",
        "```\n",
        "---\n",
        "\n",
        "ただし、指定した要素が複数個リストに含まれる場合、一番最初の要素が削除されます。また、指定した値がリストに含まれない場合はエラーとなります。"
      ]
    },
    {
      "cell_type": "code",
      "metadata": {
        "id": "LFDspbwoqLcG",
        "outputId": "6c227b9e-7091-494f-a5bc-b79891e9bf82",
        "colab": {
          "base_uri": "https://localhost:8080/"
        }
      },
      "source": [
        "numbers = [10, 20, 30, 40, 20] \n",
        "numbers.remove(30) # 指定した要素を削除\n",
        "numbers"
      ],
      "execution_count": 70,
      "outputs": [
        {
          "output_type": "execute_result",
          "data": {
            "text/plain": [
              "[10, 20, 40, 20]"
            ]
          },
          "metadata": {
            "tags": []
          },
          "execution_count": 70
        }
      ]
    },
    {
      "cell_type": "code",
      "metadata": {
        "id": "mpVyRgmtqLcG",
        "outputId": "6da4cd27-72ab-487d-c265-762c0d1ed8d5",
        "colab": {
          "base_uri": "https://localhost:8080/"
        }
      },
      "source": [
        "numbers.remove(20) # 指定した要素が複数個リストに含まれる場合、一番最初の要素を削除\n",
        "numbers"
      ],
      "execution_count": 71,
      "outputs": [
        {
          "output_type": "execute_result",
          "data": {
            "text/plain": [
              "[10, 40, 20]"
            ]
          },
          "metadata": {
            "tags": []
          },
          "execution_count": 71
        }
      ]
    },
    {
      "cell_type": "code",
      "metadata": {
        "tags": [
          "raises-exception"
        ],
        "id": "OY9qRHBvqLcG",
        "outputId": "5d2da4a7-31e5-4c87-d4d9-78766762c79a",
        "colab": {
          "base_uri": "https://localhost:8080/",
          "height": 168
        }
      },
      "source": [
        "numbers.remove(100) # リストに含まれない値を指定するとエラー"
      ],
      "execution_count": 72,
      "outputs": [
        {
          "output_type": "error",
          "ename": "ValueError",
          "evalue": "ignored",
          "traceback": [
            "\u001b[0;31m---------------------------------------------------------------------------\u001b[0m",
            "\u001b[0;31mValueError\u001b[0m                                Traceback (most recent call last)",
            "\u001b[0;32m<ipython-input-72-b29e5e87cf76>\u001b[0m in \u001b[0;36m<module>\u001b[0;34m()\u001b[0m\n\u001b[0;32m----> 1\u001b[0;31m \u001b[0mnumbers\u001b[0m\u001b[0;34m.\u001b[0m\u001b[0mremove\u001b[0m\u001b[0;34m(\u001b[0m\u001b[0;36m100\u001b[0m\u001b[0;34m)\u001b[0m \u001b[0;31m# リストに含まれない値を指定するとエラー\u001b[0m\u001b[0;34m\u001b[0m\u001b[0;34m\u001b[0m\u001b[0m\n\u001b[0m",
            "\u001b[0;31mValueError\u001b[0m: list.remove(x): x not in list"
          ]
        }
      ]
    },
    {
      "cell_type": "markdown",
      "metadata": {
        "id": "AF8HiVgbqLcH"
      },
      "source": [
        "### ▲リストからインデックスで指定した要素を削除する\n",
        "\n",
        "**`pop`** メソッドはリストから指定したインデックスを削除し、その要素を返します。\n",
        "\n",
        "---\n",
        "```Python\n",
        "リスト.pop(削除したい要素のインデックス)\n",
        "```\n",
        "---"
      ]
    },
    {
      "cell_type": "code",
      "metadata": {
        "id": "cd0Mq4iIqLcH",
        "outputId": "d0034971-56a5-4c06-dc0f-bdd1d75f0728",
        "colab": {
          "base_uri": "https://localhost:8080/"
        }
      },
      "source": [
        "numbers = [10, 20, 20, 30, 20, 40]\n",
        "print(numbers.pop(3))\n",
        "print(numbers)"
      ],
      "execution_count": 73,
      "outputs": [
        {
          "output_type": "stream",
          "text": [
            "30\n",
            "[10, 20, 20, 20, 40]\n"
          ],
          "name": "stdout"
        }
      ]
    },
    {
      "cell_type": "markdown",
      "metadata": {
        "id": "YOiCslGyqLcH"
      },
      "source": [
        "インデックスを指定しない場合、最後尾の要素を削除して返します。\n",
        "\n",
        "---\n",
        "```Python\n",
        "リスト.pop()\n",
        "```\n",
        "---"
      ]
    },
    {
      "cell_type": "code",
      "metadata": {
        "id": "4Isp8uKrqLcH",
        "outputId": "7121daac-7eb7-421a-ac67-64124a6abe17",
        "colab": {
          "base_uri": "https://localhost:8080/"
        }
      },
      "source": [
        "ln = [10, 20, 30, 20, 40]\n",
        "print(ln.pop())\n",
        "print(ln)"
      ],
      "execution_count": 74,
      "outputs": [
        {
          "output_type": "stream",
          "text": [
            "40\n",
            "[10, 20, 30, 20]\n"
          ],
          "name": "stdout"
        }
      ]
    },
    {
      "cell_type": "markdown",
      "metadata": {
        "id": "XPoxExmmqLcH"
      },
      "source": [
        "### ▲リスト要素を削除する\n",
        "\n",
        "**`del`** 文は指定するリストの要素を削除します。具体的には以下のように削除したい要素をインデックスで指定します。  \n",
        "`del` も破壊的であることに注意してください。\n",
        "\n",
        "---\n",
        "```Python\n",
        "del リスト[x]\n",
        "```\n",
        "---"
      ]
    },
    {
      "cell_type": "code",
      "metadata": {
        "id": "VGmzYjMaqLcH",
        "outputId": "770eb2d6-69e5-4049-c8cc-5d60cbe59e18",
        "colab": {
          "base_uri": "https://localhost:8080/"
        }
      },
      "source": [
        "numbers = [10, 20, 30, 40, 50]\n",
        "del numbers[2]\n",
        "numbers"
      ],
      "execution_count": 76,
      "outputs": [
        {
          "output_type": "execute_result",
          "data": {
            "text/plain": [
              "[10, 20, 40, 50]"
            ]
          },
          "metadata": {
            "tags": []
          },
          "execution_count": 76
        }
      ]
    },
    {
      "cell_type": "markdown",
      "metadata": {
        "id": "4ivda03kqLcI"
      },
      "source": [
        "スライスを使うことも可能です。\n",
        "\n",
        "---\n",
        "```Python\n",
        "del リスト[x:y]\n",
        "```\n",
        "---\n"
      ]
    },
    {
      "cell_type": "code",
      "metadata": {
        "id": "HoKRScdMqLcI",
        "outputId": "19fb203e-aedc-46ce-f387-56784c33e2fb",
        "colab": {
          "base_uri": "https://localhost:8080/"
        }
      },
      "source": [
        "numbers = [10, 20, 30, 40, 50]\n",
        "del numbers[2:4]\n",
        "numbers"
      ],
      "execution_count": 77,
      "outputs": [
        {
          "output_type": "execute_result",
          "data": {
            "text/plain": [
              "[10, 20, 50]"
            ]
          },
          "metadata": {
            "tags": []
          },
          "execution_count": 77
        }
      ]
    },
    {
      "cell_type": "markdown",
      "metadata": {
        "id": "TQ0QZIa9qLcI"
      },
      "source": [
        "### ▲リストの要素を逆順にする\n",
        "\n",
        "**`reverse`** メソッドはリスト内の要素の順序を逆順にします。"
      ]
    },
    {
      "cell_type": "code",
      "metadata": {
        "id": "VbG6A8v9qLcI",
        "outputId": "34b4af14-9b56-4602-8515-076c01946dbf",
        "colab": {
          "base_uri": "https://localhost:8080/"
        }
      },
      "source": [
        "characters = ['e', 'd', 'a', 'c', 'f', 'b']\n",
        "characters.reverse()\n",
        "characters"
      ],
      "execution_count": 79,
      "outputs": [
        {
          "output_type": "execute_result",
          "data": {
            "text/plain": [
              "['b', 'f', 'c', 'a', 'd', 'e']"
            ]
          },
          "metadata": {
            "tags": []
          },
          "execution_count": 79
        }
      ]
    },
    {
      "cell_type": "markdown",
      "metadata": {
        "id": "w_mvz26TqLcJ"
      },
      "source": [
        "### ▲ **`copy`**\n",
        "リストを複製します。\n",
        "すなわち、`ln` の値がリストであるとき、`ln.copy()` は `ln` と同じ長さのリストを新たに作って、\n",
        "`ln` の要素を新しいリストに同じ順番で格納して、その新しいリストを返します。\n",
        "\n",
        "複製されたリストに変更を加えたとしても、もとのリストは影響を受けません。"
      ]
    },
    {
      "cell_type": "code",
      "metadata": {
        "id": "nPdbIbBNqLcJ",
        "outputId": "2cd21c43-8d11-4485-e085-eed7712941b1",
        "colab": {
          "base_uri": "https://localhost:8080/"
        }
      },
      "source": [
        "numbers = [10, 20, 30, 40, 50]\n",
        "numbers2 = numbers.copy()\n",
        "del numbers[1:3]\n",
        "numbers.reverse()\n",
        "print(numbers)\n",
        "print(numbers2)"
      ],
      "execution_count": 80,
      "outputs": [
        {
          "output_type": "stream",
          "text": [
            "[50, 40, 10]\n",
            "[10, 20, 30, 40, 50]\n"
          ],
          "name": "stdout"
        }
      ]
    },
    {
      "cell_type": "markdown",
      "metadata": {
        "id": "1l4C326-qLcJ"
      },
      "source": [
        "一方、代入を用いた場合には影響を受けることに注意してください。"
      ]
    },
    {
      "cell_type": "code",
      "metadata": {
        "id": "8IizPXDMqLcJ",
        "outputId": "d30ae5a9-0560-4a09-9d90-52558a6e9ca6",
        "colab": {
          "base_uri": "https://localhost:8080/"
        }
      },
      "source": [
        "numbers = [10, 20, 30, 40, 50]\n",
        "numbers2 = numbers\n",
        "del numbers[1:3]\n",
        "numbers.reverse()\n",
        "print(numbers)\n",
        "print(numbers2)"
      ],
      "execution_count": 81,
      "outputs": [
        {
          "output_type": "stream",
          "text": [
            "[50, 40, 10]\n",
            "[50, 40, 10]\n"
          ],
          "name": "stdout"
        }
      ]
    },
    {
      "cell_type": "markdown",
      "metadata": {
        "id": "QwVqUPtFqLcJ"
      },
      "source": [
        "## タプル (tuple)\n",
        "\n",
        "**タプル**は、リストと同じようにデータの並びであり、あらゆる種類のデータを要素にできます。\n",
        "ただし、リストと違ってタプルは一度設定した要素を変更できません（文字列も同様でした）。\n",
        "すなわち、タプルは変更不可能なデータです。\n",
        "したがって、リストの項で説明したメソッドの多く、要素を操作するもの、は適用できないのですが、\n",
        "逆にいうと、作成した後で要素を変更する必要がない場合は、\n",
        "タプルの方が実装の効率がよいので、リストよりもタプルを使うべきです。\n",
        "\n",
        "たとえば、関数が複数の値をリストにして返し、呼び出し側がすぐにリストをばらばらにして値を取り出すような場合は、\n",
        "リストよりもタプルを使うべきです。\n",
        "また、平面上の点を表そうとするとき、x座標とy座標を別々に変化させる必要がなければ、\n",
        "`(3, 5)` のようなタプルを使うのが自然です。\n",
        "このように、タプルを作成するには数学におけるのと同様に要素を丸括弧 `(...)` で囲みます。\n",
        "\n",
        "例を見ましょう。"
      ]
    },
    {
      "cell_type": "code",
      "metadata": {
        "id": "GgexCOCAqLcK"
      },
      "source": [
        "x = 3\n",
        "y = 5\n",
        "point = (x, y)"
      ],
      "execution_count": 82,
      "outputs": []
    },
    {
      "cell_type": "code",
      "metadata": {
        "id": "Z4YUzNGQqLcK",
        "outputId": "916ee38e-c8fd-4b22-cefd-f5bd4059d3d3",
        "colab": {
          "base_uri": "https://localhost:8080/"
        }
      },
      "source": [
        "point"
      ],
      "execution_count": 83,
      "outputs": [
        {
          "output_type": "execute_result",
          "data": {
            "text/plain": [
              "(3, 5)"
            ]
          },
          "metadata": {
            "tags": []
          },
          "execution_count": 83
        }
      ]
    },
    {
      "cell_type": "code",
      "metadata": {
        "id": "ph_7onpOqLcK",
        "outputId": "4769c3e3-dff1-46cc-b0db-2d1ba2ac5d54",
        "colab": {
          "base_uri": "https://localhost:8080/"
        }
      },
      "source": [
        "type(point)"
      ],
      "execution_count": 85,
      "outputs": [
        {
          "output_type": "execute_result",
          "data": {
            "text/plain": [
              "tuple"
            ]
          },
          "metadata": {
            "tags": []
          },
          "execution_count": 85
        }
      ]
    },
    {
      "cell_type": "code",
      "metadata": {
        "id": "c-nW9pGjqLcK",
        "outputId": "e1ed17e6-7546-4758-94f4-9c72cbbf5ff2",
        "colab": {
          "base_uri": "https://localhost:8080/"
        }
      },
      "source": [
        "numbers3 = (1, 2, 3)\n",
        "numbers3"
      ],
      "execution_count": 84,
      "outputs": [
        {
          "output_type": "execute_result",
          "data": {
            "text/plain": [
              "(1, 2, 3)"
            ]
          },
          "metadata": {
            "tags": []
          },
          "execution_count": 84
        }
      ]
    },
    {
      "cell_type": "markdown",
      "metadata": {
        "id": "AquGVWkkqLcK"
      },
      "source": [
        "実は、丸括弧なしでもタプルを作成できます。"
      ]
    },
    {
      "cell_type": "code",
      "metadata": {
        "id": "wzMq7HS9qLcL",
        "outputId": "a7c961ca-6239-4df0-892a-deb1ed93f128",
        "colab": {
          "base_uri": "https://localhost:8080/"
        }
      },
      "source": [
        "numbers3 = 1,2,3\n",
        "numbers3"
      ],
      "execution_count": 86,
      "outputs": [
        {
          "output_type": "execute_result",
          "data": {
            "text/plain": [
              "(1, 2, 3)"
            ]
          },
          "metadata": {
            "tags": []
          },
          "execution_count": 86
        }
      ]
    },
    {
      "cell_type": "markdown",
      "metadata": {
        "id": "3g75X3vNqLcL"
      },
      "source": [
        "要素が1つだけの場合は、 `t = (1)` ではなく、次のようにします。"
      ]
    },
    {
      "cell_type": "code",
      "metadata": {
        "id": "KbpJEOM-qLcL",
        "outputId": "0bf3b9a8-50ad-424d-94a2-d3e1362f9d66",
        "colab": {
          "base_uri": "https://localhost:8080/"
        }
      },
      "source": [
        "onlyone = (1,)\n",
        "onlyone"
      ],
      "execution_count": 87,
      "outputs": [
        {
          "output_type": "execute_result",
          "data": {
            "text/plain": [
              "(1,)"
            ]
          },
          "metadata": {
            "tags": []
          },
          "execution_count": 87
        }
      ]
    },
    {
      "cell_type": "markdown",
      "metadata": {
        "id": "L8WLwHoPqLcL"
      },
      "source": [
        "`t = (1)` だと、`t = 1` と同じになってしまいます。"
      ]
    },
    {
      "cell_type": "code",
      "metadata": {
        "id": "id-I0mKtqLcL",
        "outputId": "0f4dfb27-3538-4aa1-bc84-25be530eab6a",
        "colab": {
          "base_uri": "https://localhost:8080/"
        }
      },
      "source": [
        "onlyone = (1)\n",
        "onlyone"
      ],
      "execution_count": 88,
      "outputs": [
        {
          "output_type": "execute_result",
          "data": {
            "text/plain": [
              "1"
            ]
          },
          "metadata": {
            "tags": []
          },
          "execution_count": 88
        }
      ]
    },
    {
      "cell_type": "markdown",
      "metadata": {
        "id": "4P1qzypgqLcL"
      },
      "source": [
        "何も要素を格納していないタプル（**空タプル**）は `()` で作成できます。"
      ]
    },
    {
      "cell_type": "code",
      "metadata": {
        "id": "LI2heOohqLcL",
        "outputId": "fbba6d2f-41f2-4d14-8bf5-53b63d4b119b",
        "colab": {
          "base_uri": "https://localhost:8080/"
        }
      },
      "source": [
        "empty = ()\n",
        "empty"
      ],
      "execution_count": 89,
      "outputs": [
        {
          "output_type": "execute_result",
          "data": {
            "text/plain": [
              "()"
            ]
          },
          "metadata": {
            "tags": []
          },
          "execution_count": 89
        }
      ]
    },
    {
      "cell_type": "markdown",
      "metadata": {
        "id": "4qTQwLsDqLcL"
      },
      "source": [
        "リストや文字列と同様に、インデックスや組み込み関数を使った操作が可能です。"
      ]
    },
    {
      "cell_type": "code",
      "metadata": {
        "id": "appmiPtlqLcM",
        "outputId": "66df750c-3aab-48fc-84d0-01346c37c7af",
        "colab": {
          "base_uri": "https://localhost:8080/"
        }
      },
      "source": [
        "numbers3 = (1, 2, 3)\n",
        "numbers3[1] # インデックスの指定による値の取得"
      ],
      "execution_count": 91,
      "outputs": [
        {
          "output_type": "execute_result",
          "data": {
            "text/plain": [
              "2"
            ]
          },
          "metadata": {
            "tags": []
          },
          "execution_count": 91
        }
      ]
    },
    {
      "cell_type": "code",
      "metadata": {
        "id": "8HjPuVvOqLcM",
        "outputId": "d8838da1-e0d9-43f6-b447-d90d7393cadf",
        "colab": {
          "base_uri": "https://localhost:8080/"
        }
      },
      "source": [
        "len(numbers3) # lenはタプルを構成する要素の数"
      ],
      "execution_count": 90,
      "outputs": [
        {
          "output_type": "execute_result",
          "data": {
            "text/plain": [
              "3"
            ]
          },
          "metadata": {
            "tags": []
          },
          "execution_count": 90
        }
      ]
    },
    {
      "cell_type": "code",
      "metadata": {
        "id": "3xLRfCFlqLcM",
        "outputId": "7fc9f6b4-5f0c-4923-ae2c-c8537edebff6",
        "colab": {
          "base_uri": "https://localhost:8080/"
        }
      },
      "source": [
        "numbers3[1:3] # スライス"
      ],
      "execution_count": 94,
      "outputs": [
        {
          "output_type": "execute_result",
          "data": {
            "text/plain": [
              "(2, 3)"
            ]
          },
          "metadata": {
            "tags": []
          },
          "execution_count": 94
        }
      ]
    },
    {
      "cell_type": "markdown",
      "metadata": {
        "id": "OASnSbfnqLcM"
      },
      "source": [
        "上述しましたが、一度作成したタプルの要素を後から変更することはできません。\n",
        "したがって以下のプログラムはエラーとなります。\n",
        "\n",
        "---\n",
        "```Python\n",
        "numbers3 = (1, 2, 3)\n",
        "numbers3[1] = 5\n",
        "```"
      ]
    },
    {
      "cell_type": "markdown",
      "metadata": {
        "id": "SX_O8u4cqLcM"
      },
      "source": [
        "組み込み関数 **`list`** を使って、タプルをリストに変換できます。\n",
        "（`list` はリストのデータ型でもあります。）"
      ]
    },
    {
      "cell_type": "code",
      "metadata": {
        "id": "CsOi15yeqLcM",
        "outputId": "1d343d94-c117-4003-e644-ca7b80af597c",
        "colab": {
          "base_uri": "https://localhost:8080/"
        }
      },
      "source": [
        "numbers3 = (1, 2, 3)\n",
        "list(numbers3)"
      ],
      "execution_count": 95,
      "outputs": [
        {
          "output_type": "execute_result",
          "data": {
            "text/plain": [
              "[1, 2, 3]"
            ]
          },
          "metadata": {
            "tags": []
          },
          "execution_count": 95
        }
      ]
    },
    {
      "cell_type": "markdown",
      "metadata": {
        "id": "Sqoz3qmiqLcM"
      },
      "source": [
        "組み込み関数 **`tuple`** を使って、逆にリストをタプルに変換できます。\n",
        "（`tuple` はタプルのデータ型でもあります。）"
      ]
    },
    {
      "cell_type": "code",
      "metadata": {
        "id": "VQZCe08dqLcN",
        "outputId": "26f80f91-079f-413f-907d-5419e1f21951",
        "colab": {
          "base_uri": "https://localhost:8080/"
        }
      },
      "source": [
        "numbers2 = [1, 2]\n",
        "tuple(numbers2)"
      ],
      "execution_count": 96,
      "outputs": [
        {
          "output_type": "execute_result",
          "data": {
            "text/plain": [
              "(1, 2)"
            ]
          },
          "metadata": {
            "tags": []
          },
          "execution_count": 96
        }
      ]
    },
    {
      "cell_type": "markdown",
      "metadata": {
        "id": "zVLbTbPxqLcN"
      },
      "source": [
        "## 練習\n",
        "整数の要素からなるリスト `ln` を引数として取り、\n",
        "`ln` に含まれる要素を逆順に格納したタプルを返す関数 `reverse_totuple` を作成してください。\n",
        "\n",
        "以下のセルの `...` のところを書き換えて `reverse_totuple(ln)` を作成してください。"
      ]
    },
    {
      "cell_type": "code",
      "metadata": {
        "id": "fcUkPO7dqLcN"
      },
      "source": [
        "def reverse_totuple(ln):\n",
        "    ln.reverse()\n",
        "    tup = tuple(ln)\n",
        "    return tup"
      ],
      "execution_count": 116,
      "outputs": []
    },
    {
      "cell_type": "markdown",
      "metadata": {
        "id": "MpkkRBRRqLcN"
      },
      "source": [
        "上のセルで解答を作成した後、以下のセルを実行し、実行結果が `True` になることを確認してください。"
      ]
    },
    {
      "cell_type": "code",
      "metadata": {
        "tags": [
          "raises-exception"
        ],
        "id": "A08nrGOCqLcN",
        "outputId": "c32dbea9-6083-4568-bd24-4a14b91dd585",
        "colab": {
          "base_uri": "https://localhost:8080/"
        }
      },
      "source": [
        "print(reverse_totuple([1, 2, 3, 4, 5]) == (5, 4, 3, 2, 1))"
      ],
      "execution_count": 117,
      "outputs": [
        {
          "output_type": "stream",
          "text": [
            "True\n"
          ],
          "name": "stdout"
        }
      ]
    },
    {
      "cell_type": "markdown",
      "metadata": {
        "id": "2rK985KLqLcN"
      },
      "source": [
        "## 多重代入\n",
        "**多重代入**では、左辺に複数の変数などを指定してタプルやリストの全ての要素を一度の操作で代入することができます。"
      ]
    },
    {
      "cell_type": "code",
      "metadata": {
        "id": "kCLlCQ6TqLcO",
        "outputId": "38725b0b-d6c4-4a92-9290-ffa59497ada1",
        "colab": {
          "base_uri": "https://localhost:8080/"
        }
      },
      "source": [
        "numbers = [0, 10, 20, 30, 40]\n",
        "[a, b, c, d, e] = numbers\n",
        "b"
      ],
      "execution_count": 118,
      "outputs": [
        {
          "output_type": "execute_result",
          "data": {
            "text/plain": [
              "10"
            ]
          },
          "metadata": {
            "tags": []
          },
          "execution_count": 118
        }
      ]
    },
    {
      "cell_type": "markdown",
      "metadata": {
        "id": "tUWfPs6-qLcO"
      },
      "source": [
        "以下のようにしても同じ結果を得られます。"
      ]
    },
    {
      "cell_type": "code",
      "metadata": {
        "tags": [
          "raises-exception"
        ],
        "id": "OfBT2IxDqLcO",
        "outputId": "3d54d623-8971-4173-a884-4702418cf5a3",
        "colab": {
          "base_uri": "https://localhost:8080/"
        }
      },
      "source": [
        "a, b, c, d, e = numbers\n",
        "b"
      ],
      "execution_count": 119,
      "outputs": [
        {
          "output_type": "execute_result",
          "data": {
            "text/plain": [
              "10"
            ]
          },
          "metadata": {
            "tags": []
          },
          "execution_count": 119
        }
      ]
    },
    {
      "cell_type": "markdown",
      "metadata": {
        "id": "IhzoCJ5NqLcO"
      },
      "source": [
        "多重代入は文字列に対しても実行可能です。"
      ]
    },
    {
      "cell_type": "code",
      "metadata": {
        "id": "YqZnHABGqLcO",
        "outputId": "ab4f2a87-712d-4ca6-8c0d-c33c72b61f1a",
        "colab": {
          "base_uri": "https://localhost:8080/",
          "height": 35
        }
      },
      "source": [
        "a, b, c, d, e = 'hello'\n",
        "d"
      ],
      "execution_count": 120,
      "outputs": [
        {
          "output_type": "execute_result",
          "data": {
            "application/vnd.google.colaboratory.intrinsic+json": {
              "type": "string"
            },
            "text/plain": [
              "'l'"
            ]
          },
          "metadata": {
            "tags": []
          },
          "execution_count": 120
        }
      ]
    },
    {
      "cell_type": "markdown",
      "metadata": {
        "id": "mYu-Qt6fqLcO"
      },
      "source": [
        "タプルに対しても実行可能です。"
      ]
    },
    {
      "cell_type": "code",
      "metadata": {
        "id": "_7ph5EnCqLcO",
        "outputId": "1c950619-968b-4b31-a66b-4aad95deda38",
        "colab": {
          "base_uri": "https://localhost:8080/"
        }
      },
      "source": [
        "numbers3 = (1, 2, 3)\n",
        "(x,y,z) = numbers3\n",
        "y"
      ],
      "execution_count": 121,
      "outputs": [
        {
          "output_type": "execute_result",
          "data": {
            "text/plain": [
              "2"
            ]
          },
          "metadata": {
            "tags": []
          },
          "execution_count": 121
        }
      ]
    },
    {
      "cell_type": "markdown",
      "metadata": {
        "id": "4r6hkrqnqLcP"
      },
      "source": [
        "以下のように様々な書き方が可能です。"
      ]
    },
    {
      "cell_type": "code",
      "metadata": {
        "id": "h5xUn6_tqLcP",
        "outputId": "a611e3fe-51fb-499f-db56-0785e7e7a95c",
        "colab": {
          "base_uri": "https://localhost:8080/"
        }
      },
      "source": [
        "x,y,z = numbers3\n",
        "print(y)\n",
        "(x,y,z) = (1, 2, 3)\n",
        "print(y)\n",
        "x,y,z = (1, 2, 3)\n",
        "print(y)\n",
        "(x,y,z) = 1, 2, 3\n",
        "print(y)\n",
        "x,y,z = 1, 2, 3\n",
        "print(y)"
      ],
      "execution_count": 122,
      "outputs": [
        {
          "output_type": "stream",
          "text": [
            "2\n",
            "2\n",
            "2\n",
            "2\n",
            "2\n"
          ],
          "name": "stdout"
        }
      ]
    },
    {
      "cell_type": "markdown",
      "metadata": {
        "id": "KClluR16qLcP"
      },
      "source": [
        "多重代入を使うことで、2つの変数に格納された値の入れ替えを行う手続きはしばしば用いられます。"
      ]
    },
    {
      "cell_type": "code",
      "metadata": {
        "id": "7wbsHZ3aqLcP"
      },
      "source": [
        "x = 'apple'\n",
        "y = 'pen'\n",
        "x, y = y, x \n",
        "print(x, y) #w = x; x = y; y = w と同じ結果が得られる"
      ],
      "execution_count": null,
      "outputs": []
    },
    {
      "cell_type": "markdown",
      "metadata": {
        "id": "QDBdYGO6qLcP"
      },
      "source": [
        "## リストやタプルの比較演算\n",
        "数値などを比較するのに用いた比較演算子を用いて、2つのリストやタプルを比較することもできます。"
      ]
    },
    {
      "cell_type": "code",
      "metadata": {
        "id": "oZrv_KaMqLcP",
        "outputId": "1331926d-0851-4a3d-cf97-5c98d929acf3",
        "colab": {
          "base_uri": "https://localhost:8080/"
        }
      },
      "source": [
        "print([1, 2, 3] == [1, 2, 3])\n",
        "print([1, 2] == [1, 2, 3])"
      ],
      "execution_count": 123,
      "outputs": [
        {
          "output_type": "stream",
          "text": [
            "True\n",
            "False\n"
          ],
          "name": "stdout"
        }
      ]
    },
    {
      "cell_type": "code",
      "metadata": {
        "id": "szkd6mGmqLcP",
        "outputId": "9dafbd66-d693-4a0e-b2a9-f559621b1167",
        "colab": {
          "base_uri": "https://localhost:8080/"
        }
      },
      "source": [
        "print((1, 2, 3) == (1, 2, 3))\n",
        "print((1, 2) == (1, 2, 3))"
      ],
      "execution_count": 124,
      "outputs": [
        {
          "output_type": "stream",
          "text": [
            "True\n",
            "False\n"
          ],
          "name": "stdout"
        }
      ]
    },
    {
      "cell_type": "code",
      "metadata": {
        "id": "IPalYmVTqLcQ",
        "outputId": "9e684508-9927-40ff-8631-859b877d0878",
        "colab": {
          "base_uri": "https://localhost:8080/"
        }
      },
      "source": [
        "print([1, 2, 3] != [1, 2, 3])\n",
        "print([1, 2] != [1, 2, 3])"
      ],
      "execution_count": 125,
      "outputs": [
        {
          "output_type": "stream",
          "text": [
            "False\n",
            "True\n"
          ],
          "name": "stdout"
        }
      ]
    },
    {
      "cell_type": "code",
      "metadata": {
        "id": "Xm4fN_hGqLcQ",
        "outputId": "76fddf60-7a3d-4163-c4e9-cfaf7588582f",
        "colab": {
          "base_uri": "https://localhost:8080/"
        }
      },
      "source": [
        "print((1, 2, 3) != (1, 2, 3))\n",
        "print((1, 2) != (1, 2, 3))"
      ],
      "execution_count": 126,
      "outputs": [
        {
          "output_type": "stream",
          "text": [
            "False\n",
            "True\n"
          ],
          "name": "stdout"
        }
      ]
    },
    {
      "cell_type": "markdown",
      "metadata": {
        "id": "4mRQW1l4qLcQ"
      },
      "source": [
        "大小の比較は、いわゆる辞書式による比較で、リストやタプルの最初の要素から順に比較して大小を決めます。\n",
        "片方がもう片方を拡張したものであれば、拡張した方を大きいとします。"
      ]
    },
    {
      "cell_type": "code",
      "metadata": {
        "id": "j7tE6_diqLcQ",
        "outputId": "cc729369-196b-4dc5-e2b7-fd50e7a4cec5",
        "colab": {
          "base_uri": "https://localhost:8080/"
        }
      },
      "source": [
        "print([1, 2, 3] <= [1, 2, 3])\n",
        "print([1, 2, 3] < [1, 2, 3])\n",
        "print([1, 2, 3] < [1, 2, 4])\n",
        "print([1, 2] < [1, 2, 3])"
      ],
      "execution_count": 127,
      "outputs": [
        {
          "output_type": "stream",
          "text": [
            "True\n",
            "False\n",
            "True\n",
            "True\n"
          ],
          "name": "stdout"
        }
      ]
    },
    {
      "cell_type": "code",
      "metadata": {
        "id": "D7hsX46WqLcQ",
        "outputId": "7edcd9b2-2539-40a0-8eaa-55c3d9f06e68",
        "colab": {
          "base_uri": "https://localhost:8080/"
        }
      },
      "source": [
        "print((1, 2, 3) <= (1, 2, 3))\n",
        "print((1, 2, 3) < (1, 2, 3))\n",
        "print((1, 2, 3) < (1, 2, 4))\n",
        "print((1, 2) < (1, 2, 3))"
      ],
      "execution_count": 128,
      "outputs": [
        {
          "output_type": "stream",
          "text": [
            "True\n",
            "False\n",
            "True\n",
            "True\n"
          ],
          "name": "stdout"
        }
      ]
    },
    {
      "cell_type": "markdown",
      "metadata": {
        "id": "KsvaDSPTqLcR"
      },
      "source": [
        "## for文による繰り返しとリスト・タプル\n",
        "\n",
        "きまった操作の繰り返しはコンピュータが最も得意とする処理のひとつです。\n",
        "リストのそれぞれの要素にわたって操作を繰り返したい場合は**for文**を用います。\n",
        "\n",
        "リスト `ls` の要素全てに対して、`実行文` を繰り返すには次のように書きます。\n",
        "\n",
        "---\n",
        "```Python\n",
        "for value in ls:\n",
        "    実行文\n",
        "```\n",
        "---\n",
        "\n",
        "`for` で始まる行の `in` の後に処理対象となるリスト `ls` が、`in` の前に変数 `value` が書かれます。\n",
        "\n",
        "`ls` の最初の要素、すなわち `ls[0]` が `value` に代入され `実行文` が処理されます。\n",
        "`実行文` の処理が終われば、`ls` の次の要素が `value` に代入され、処理が繰り返されます。\n",
        "このようにして、`ls` の要素に対する処理が `len(ls)` 回繰り返されると、for文の処理が終了します。　\n",
        "\n",
        "ここでの `in` の働きは、先に説明したリスト要素の有無を検査する `in` とは異なることに、\n",
        "そして、if文と同様、 `実行文` の前にはスペースが必要であることに注意してください。\n",
        "\n",
        "次に具体例を示します。\n",
        "3つの要素を持つリスト `ls` から1つずつ要素を取り出し、変数 `value` に代入しています。\n",
        "`実行文` では `value` を用いて取り出した要素を参照しています。"
      ]
    },
    {
      "cell_type": "code",
      "metadata": {
        "id": "9QClFkQnqLcR",
        "outputId": "a6b116c3-ae5d-4c6e-cafd-9f86b6b16fed",
        "colab": {
          "base_uri": "https://localhost:8080/"
        }
      },
      "source": [
        "ls = [0,1,2]\n",
        "\n",
        "for value in ls:\n",
        "    print('For loop:', value)"
      ],
      "execution_count": 129,
      "outputs": [
        {
          "output_type": "stream",
          "text": [
            "For loop: 0\n",
            "For loop: 1\n",
            "For loop: 2\n"
          ],
          "name": "stdout"
        }
      ]
    },
    {
      "cell_type": "markdown",
      "metadata": {
        "id": "0OeT7texqLcR"
      },
      "source": [
        "`in` の後に直接リストを記述することもできます。"
      ]
    },
    {
      "cell_type": "code",
      "metadata": {
        "id": "k_4VTmYaqLcR",
        "outputId": "a4d51ea6-e072-4b6a-cfd8-ba03417df267",
        "colab": {
          "base_uri": "https://localhost:8080/"
        }
      },
      "source": [
        "for value in [0,1,2]:\n",
        "    print('For loop:', value)"
      ],
      "execution_count": 130,
      "outputs": [
        {
          "output_type": "stream",
          "text": [
            "For loop: 0\n",
            "For loop: 1\n",
            "For loop: 2\n"
          ],
          "name": "stdout"
        }
      ]
    },
    {
      "cell_type": "markdown",
      "metadata": {
        "id": "8rhRhbVxqLcR"
      },
      "source": [
        "`実行文` の前にスペースがないとエラーが出ます。"
      ]
    },
    {
      "cell_type": "code",
      "metadata": {
        "tags": [
          "raises-exception"
        ],
        "id": "UVjB-C3cqLcR",
        "outputId": "3bbcf93c-ea4a-4ac9-e4b1-137022d40002",
        "colab": {
          "base_uri": "https://localhost:8080/",
          "height": 134
        }
      },
      "source": [
        "for value in  [0,1,2]:\n",
        "print('For loop:', value)"
      ],
      "execution_count": 131,
      "outputs": [
        {
          "output_type": "error",
          "ename": "IndentationError",
          "evalue": "ignored",
          "traceback": [
            "\u001b[0;36m  File \u001b[0;32m\"<ipython-input-131-774a845550fc>\"\u001b[0;36m, line \u001b[0;32m2\u001b[0m\n\u001b[0;31m    print('For loop:', value)\u001b[0m\n\u001b[0m        ^\u001b[0m\n\u001b[0;31mIndentationError\u001b[0m\u001b[0;31m:\u001b[0m expected an indented block\n"
          ]
        }
      ]
    },
    {
      "cell_type": "markdown",
      "metadata": {
        "id": "YBUoi8fFqLcR"
      },
      "source": [
        "エラーが出れば意図した通りにプログラムが組めていないのにすぐ気が付きますが、\n",
        "エラーが出ないために意図したプログラムが組めていないことに気が付かないことがあります。\n",
        "たとえば、次のような内容を実行しようとしていたとします。"
      ]
    },
    {
      "cell_type": "code",
      "metadata": {
        "id": "J9HKygYlqLcS",
        "outputId": "c45b6267-ad9d-4261-9e36-69ad9ebf0111",
        "colab": {
          "base_uri": "https://localhost:8080/"
        }
      },
      "source": [
        "for value in  [0,1,2]:\n",
        "    print('During for loop:', value)\n",
        "    print('During for loop, too:', value)"
      ],
      "execution_count": 132,
      "outputs": [
        {
          "output_type": "stream",
          "text": [
            "During for loop: 0\n",
            "During for loop, too: 0\n",
            "During for loop: 1\n",
            "During for loop, too: 1\n",
            "During for loop: 2\n",
            "During for loop, too: 2\n"
          ],
          "name": "stdout"
        }
      ]
    },
    {
      "cell_type": "markdown",
      "metadata": {
        "id": "1c-UDkM8qLcS"
      },
      "source": [
        "後者の `print` の行のスペースの数が間違ってると、次のような結果になる場合がありますので注意してください。"
      ]
    },
    {
      "cell_type": "code",
      "metadata": {
        "id": "1YMDZwzJqLcS",
        "outputId": "8ae88e0f-9348-4eab-cf4d-9193830e3197",
        "colab": {
          "base_uri": "https://localhost:8080/"
        }
      },
      "source": [
        "for value in [0,1,2]:\n",
        "    print('During for loop:', value)\n",
        "print('During for loop, too:', value) #この行のスペースの数が間違っていたがエラーは出ない"
      ],
      "execution_count": 133,
      "outputs": [
        {
          "output_type": "stream",
          "text": [
            "During for loop: 0\n",
            "During for loop: 1\n",
            "During for loop: 2\n",
            "During for loop, too: 2\n"
          ],
          "name": "stdout"
        }
      ]
    },
    {
      "cell_type": "markdown",
      "metadata": {
        "id": "uW4ZZgOEqLcS"
      },
      "source": [
        "タプルの要素にまたがる処理もリストと同様に行えます。"
      ]
    },
    {
      "cell_type": "code",
      "metadata": {
        "id": "nZmNcpNvqLcS",
        "outputId": "24251e56-0e40-4769-dd8f-8e1f12e9fef6",
        "colab": {
          "base_uri": "https://localhost:8080/"
        }
      },
      "source": [
        "for value in (0,1,2):\n",
        "    print('For loop:', value)"
      ],
      "execution_count": 134,
      "outputs": [
        {
          "output_type": "stream",
          "text": [
            "For loop: 0\n",
            "For loop: 1\n",
            "For loop: 2\n"
          ],
          "name": "stdout"
        }
      ]
    },
    {
      "cell_type": "markdown",
      "metadata": {
        "id": "35cJjeduqLcS"
      },
      "source": [
        "以下はリストに対するfor文の典型例です。`numbers` は数のリストとします。"
      ]
    },
    {
      "cell_type": "code",
      "metadata": {
        "id": "-IKwkf1XqLcS"
      },
      "source": [
        "numbers = [0,1,2,3,4,5]"
      ],
      "execution_count": 135,
      "outputs": []
    },
    {
      "cell_type": "markdown",
      "metadata": {
        "id": "K6nveFC1qLcT"
      },
      "source": [
        "以下のようにして、このリストの要素の自乗から成るリストを求めることができます。"
      ]
    },
    {
      "cell_type": "code",
      "metadata": {
        "id": "1_uROr1bqLcT",
        "outputId": "52bbcf87-dfd8-4663-a710-5288569c02bd",
        "colab": {
          "base_uri": "https://localhost:8080/"
        }
      },
      "source": [
        "squares1 = []\n",
        "for x in numbers:\n",
        "    squares1.append(x**2)\n",
        "squares1"
      ],
      "execution_count": 136,
      "outputs": [
        {
          "output_type": "execute_result",
          "data": {
            "text/plain": [
              "[0, 1, 4, 9, 16, 25]"
            ]
          },
          "metadata": {
            "tags": []
          },
          "execution_count": 136
        }
      ]
    },
    {
      "cell_type": "markdown",
      "metadata": {
        "id": "by7rJqBqqLcT"
      },
      "source": [
        "`squares1` には最初に空リストが代入されます。\n",
        "そして、`numbers` の各要素の自乗がこのリストに次々と追加されます。"
      ]
    },
    {
      "cell_type": "markdown",
      "metadata": {
        "id": "czkr8hhLqLcT"
      },
      "source": [
        "## 練習\n",
        "整数の要素からなるリスト `ln` を引数として取り、`ln` の要素の総和を返す関数 `sum_list` を作成してください。\n",
        "\n",
        "以下のセルの `...` のところを書き換えて `sum_list(ln)` を作成してください。"
      ]
    },
    {
      "cell_type": "code",
      "metadata": {
        "id": "skH1sqZaqLcT"
      },
      "source": [
        "def sum_list(ln):\n",
        "    value = 0\n",
        "    for i in ln:\n",
        "      value += i\n",
        "    return value"
      ],
      "execution_count": 142,
      "outputs": []
    },
    {
      "cell_type": "markdown",
      "metadata": {
        "id": "bv_w8WItqLcT"
      },
      "source": [
        "上のセルで解答を作成した後、以下のセルを実行し、実行結果が全て True になることを確認してください。"
      ]
    },
    {
      "cell_type": "code",
      "metadata": {
        "id": "V99tfF52qLcT",
        "outputId": "9b66c85f-4bc1-483e-a787-a8e0bed46127",
        "colab": {
          "base_uri": "https://localhost:8080/"
        }
      },
      "source": [
        "print(sum_list([10, 20, 30]) == 60)\n",
        "print(sum_list([-1, 2, -3, 4, -5]) == -3)"
      ],
      "execution_count": 143,
      "outputs": [
        {
          "output_type": "stream",
          "text": [
            "True\n",
            "True\n"
          ],
          "name": "stdout"
        }
      ]
    },
    {
      "cell_type": "markdown",
      "metadata": {
        "id": "Kmt01wexqLcU"
      },
      "source": [
        "##  for文による繰り返しと文字列\n",
        "\n",
        "for文を使うと文字列全体にまたがる処理も可能です。\n",
        "文字列 `str1` をまたがって一文字ずつの繰り返し処理を行う場合は次のように書きます。\n",
        "ここで、`c` には取り出された一文字（の文字列）が代入されています。\n",
        "\n",
        "---\n",
        "```Python\n",
        "for c in str1:\n",
        "    実行文\n",
        "```\n",
        "---\n",
        "\n",
        "`str1` で与えられる文字列を一文字ずつ大文字で出力する処理は以下のようになります。"
      ]
    },
    {
      "cell_type": "code",
      "metadata": {
        "id": "qaoIAvADqLcU",
        "outputId": "7d5a026c-eea1-4571-d55d-0fa96f5c4c92",
        "colab": {
          "base_uri": "https://localhost:8080/"
        }
      },
      "source": [
        "str1 = 'Apple and pen'\n",
        "for c in str1:\n",
        "    print(c.upper())"
      ],
      "execution_count": 144,
      "outputs": [
        {
          "output_type": "stream",
          "text": [
            "A\n",
            "P\n",
            "P\n",
            "L\n",
            "E\n",
            " \n",
            "A\n",
            "N\n",
            "D\n",
            " \n",
            "P\n",
            "E\n",
            "N\n"
          ],
          "name": "stdout"
        }
      ]
    },
    {
      "cell_type": "markdown",
      "metadata": {
        "id": "a5MX1tI-qLcU"
      },
      "source": [
        "## 練習\n",
        "\n",
        "ATGCの4種類の文字から成る文字列 `str_atgc` が引数として与えられたとき、次のようなリスト `list_count` を返す関数 `atgc_countlist` を作成してください。ただし、 `list_count` の要素は、各塩基 `bp` に対して `str_atgc` 中の `bp` の出現回数と `bp` の名前を格納した（長さ2の）リストとします。\n",
        "\n",
        "ヒント：文字列 `'ATGC'` に対する繰り返しを用いることができます。\n",
        "\n",
        "以下のセルの `...` のところを書き換えて `atgc_countlist(str_atgc)` を作成してください。"
      ]
    },
    {
      "cell_type": "code",
      "metadata": {
        "id": "XyLzuJwvqLcU"
      },
      "source": [
        "def atgc_countlist(str_atgc):\n",
        "  return_list = []\n",
        "  for bp in 'ATGC':\n",
        "    count_bp = str_atgc.count(bp)\n",
        "    return_list.append([count_bp, bp])\n",
        "  return return_list"
      ],
      "execution_count": 161,
      "outputs": []
    },
    {
      "cell_type": "markdown",
      "metadata": {
        "id": "LzEXYae9qLcU"
      },
      "source": [
        "上のセルで解答を作成した後、以下のセルを実行し、実行結果が `True` になることを確認してください。"
      ]
    },
    {
      "cell_type": "code",
      "metadata": {
        "tags": [
          "raises-exception"
        ],
        "id": "k7S8y6MoqLcU",
        "outputId": "7f32eabd-a793-4b31-9ab9-1dadcd850b81",
        "colab": {
          "base_uri": "https://localhost:8080/"
        }
      },
      "source": [
        "print(sorted(atgc_countlist('AAGCCCCATGGTAA')) == sorted([[5, 'A'], [2, 'T'], [3, 'G'], [4, 'C']]))"
      ],
      "execution_count": 162,
      "outputs": [
        {
          "output_type": "stream",
          "text": [
            "True\n"
          ],
          "name": "stdout"
        }
      ]
    },
    {
      "cell_type": "markdown",
      "metadata": {
        "id": "M69agXIWqLcV"
      },
      "source": [
        "## for文によるリスト初期化の短縮記法\n",
        "\n",
        "先に、リストの要素の自乗から成るリストを求める例を説明しました。"
      ]
    },
    {
      "cell_type": "code",
      "metadata": {
        "id": "ZrV4S3tdqLcV",
        "outputId": "27202b30-22d4-406b-d71a-1b6d92e08daf",
        "colab": {
          "base_uri": "https://localhost:8080/"
        }
      },
      "source": [
        "numbers = [0,1,2,3,4,5]\n",
        "\n",
        "squares1 = []\n",
        "for x in numbers:\n",
        "    squares1.append(x**2)\n",
        "squares1"
      ],
      "execution_count": 148,
      "outputs": [
        {
          "output_type": "execute_result",
          "data": {
            "text/plain": [
              "[0, 1, 4, 9, 16, 25]"
            ]
          },
          "metadata": {
            "tags": []
          },
          "execution_count": 148
        }
      ]
    },
    {
      "cell_type": "markdown",
      "metadata": {
        "id": "hlr1E2Z4qLcV"
      },
      "source": [
        "詳しくは6-1で説明されますが、**内包表記**を用いて書き換えると、以下のように1行で書くことができます。"
      ]
    },
    {
      "cell_type": "code",
      "metadata": {
        "id": "LoNtoBcvqLcV",
        "outputId": "52d5326c-f29f-4a5f-f8f5-328dd58dc50f",
        "colab": {
          "base_uri": "https://localhost:8080/"
        }
      },
      "source": [
        "squares2 = [x**2 for x in numbers]\n",
        "squares2"
      ],
      "execution_count": 149,
      "outputs": [
        {
          "output_type": "execute_result",
          "data": {
            "text/plain": [
              "[0, 1, 4, 9, 16, 25]"
            ]
          },
          "metadata": {
            "tags": []
          },
          "execution_count": 149
        }
      ]
    },
    {
      "cell_type": "markdown",
      "metadata": {
        "id": "vsdD5l2uqLcV"
      },
      "source": [
        "すなわち、\n",
        "```Python\n",
        "[x を含む式 for x in リストを返す式]\n",
        "```\n",
        "という式は、\"リストを返す式\" が返したリストの各要素を `x` に代入して \"`x` を含む式\" を計算し、\n",
        "その結果をリストにして返します。\n",
        "もちろん、変数は `x` でなくてもよいです。"
      ]
    },
    {
      "cell_type": "code",
      "metadata": {
        "id": "LHhX5PnqqLcV",
        "outputId": "b376f3c3-c105-46b3-e5b0-69b42c60e434",
        "colab": {
          "base_uri": "https://localhost:8080/"
        }
      },
      "source": [
        "[y**2 for y in numbers]"
      ],
      "execution_count": 150,
      "outputs": [
        {
          "output_type": "execute_result",
          "data": {
            "text/plain": [
              "[0, 1, 4, 9, 16, 25]"
            ]
          },
          "metadata": {
            "tags": []
          },
          "execution_count": 150
        }
      ]
    },
    {
      "cell_type": "markdown",
      "metadata": {
        "id": "qAlZHXOdqLcW"
      },
      "source": [
        "## ▲オブジェクトの等価性と同一性\n",
        "\n",
        "1-3で、Pythonにおける値はオブジェクトと総称されますと述べました。\n",
        "ここでは、オブジェクトの等価性と同一性について説明します。\n",
        "\n",
        "既に見てきたように、演算子 `==` を用いて**オブジェクトの等価性**を判定できます。"
      ]
    },
    {
      "cell_type": "code",
      "metadata": {
        "id": "qC08NHgBqLcW"
      },
      "source": [
        "a = []\n",
        "b = []"
      ],
      "execution_count": 165,
      "outputs": []
    },
    {
      "cell_type": "markdown",
      "metadata": {
        "id": "3RqSxZ_1qLcW"
      },
      "source": [
        "このとき、`a` と `b` の値はどちらも空リストなので、以下のように `a` の値と `b` の値は等価です。"
      ]
    },
    {
      "cell_type": "code",
      "metadata": {
        "id": "7i2zpDdVqLcW",
        "outputId": "cd289be9-3695-4fa1-b75c-3d48d3eaeed6",
        "colab": {
          "base_uri": "https://localhost:8080/"
        }
      },
      "source": [
        "a == b"
      ],
      "execution_count": 166,
      "outputs": [
        {
          "output_type": "execute_result",
          "data": {
            "text/plain": [
              "True"
            ]
          },
          "metadata": {
            "tags": []
          },
          "execution_count": 166
        }
      ]
    },
    {
      "cell_type": "markdown",
      "metadata": {
        "id": "yQvylVMkqLcW"
      },
      "source": [
        "しかし、`[`  で始まり `]` で終わる式を評価すると、\n",
        "必ず新しいリスト（オブジェクト）が作られて返されるので、\n",
        "`a` と `b` の値は同一ではありません。\n",
        "\n",
        "**オブジェクトの同一性**は演算子 **`is`** を用いて判定できます。"
      ]
    },
    {
      "cell_type": "code",
      "metadata": {
        "id": "qH2ZQ167qLcW",
        "outputId": "d0ab0d73-3832-4cd6-b0ce-b6297a330fda",
        "colab": {
          "base_uri": "https://localhost:8080/"
        }
      },
      "source": [
        "a is b"
      ],
      "execution_count": 168,
      "outputs": [
        {
          "output_type": "execute_result",
          "data": {
            "text/plain": [
              "False"
            ]
          },
          "metadata": {
            "tags": []
          },
          "execution_count": 168
        }
      ]
    },
    {
      "cell_type": "markdown",
      "metadata": {
        "id": "hxKRyTQpqLcW"
      },
      "source": [
        "リストの要素はオブジェクトなので、要素ごとに等価性と同一性が定まります。\n",
        "\n",
        "例として、`a` と `b` を要素とするリスト `c` を作ります。"
      ]
    },
    {
      "cell_type": "code",
      "metadata": {
        "id": "17P3KiFdqLcX",
        "outputId": "e946ea24-0771-4f88-ff27-98a124b3c7e5",
        "colab": {
          "base_uri": "https://localhost:8080/"
        }
      },
      "source": [
        "c = [a, b]\n",
        "c"
      ],
      "execution_count": 169,
      "outputs": [
        {
          "output_type": "execute_result",
          "data": {
            "text/plain": [
              "[[], []]"
            ]
          },
          "metadata": {
            "tags": []
          },
          "execution_count": 169
        }
      ]
    },
    {
      "cell_type": "code",
      "metadata": {
        "id": "npkJ8o1VqLcX",
        "outputId": "7b79e6f9-e1f9-4b5b-e175-27d01eb8bc95",
        "colab": {
          "base_uri": "https://localhost:8080/"
        }
      },
      "source": [
        "c[0] is c[1]"
      ],
      "execution_count": 170,
      "outputs": [
        {
          "output_type": "execute_result",
          "data": {
            "text/plain": [
              "False"
            ]
          },
          "metadata": {
            "tags": []
          },
          "execution_count": 170
        }
      ]
    },
    {
      "cell_type": "markdown",
      "metadata": {
        "id": "bDVvi2YmqLcX"
      },
      "source": [
        "`a` を変化させてみましょう。"
      ]
    },
    {
      "cell_type": "code",
      "metadata": {
        "id": "-y-OdAmqqLcX",
        "outputId": "7c8aa1a3-c352-4b60-d2ed-898cdd578031",
        "colab": {
          "base_uri": "https://localhost:8080/"
        }
      },
      "source": [
        "a.append(1)\n",
        "a"
      ],
      "execution_count": 171,
      "outputs": [
        {
          "output_type": "execute_result",
          "data": {
            "text/plain": [
              "[1]"
            ]
          },
          "metadata": {
            "tags": []
          },
          "execution_count": 171
        }
      ]
    },
    {
      "cell_type": "markdown",
      "metadata": {
        "id": "iGPCbzGSqLcX"
      },
      "source": [
        "すると `c` は以下のようになります。"
      ]
    },
    {
      "cell_type": "code",
      "metadata": {
        "id": "H6HzmMk8qLcX",
        "outputId": "d3a93c94-eca5-46c1-afad-000c409cb982",
        "colab": {
          "base_uri": "https://localhost:8080/"
        }
      },
      "source": [
        "c"
      ],
      "execution_count": 172,
      "outputs": [
        {
          "output_type": "execute_result",
          "data": {
            "text/plain": [
              "[[1], []]"
            ]
          },
          "metadata": {
            "tags": []
          },
          "execution_count": 172
        }
      ]
    },
    {
      "cell_type": "markdown",
      "metadata": {
        "id": "qz6EzohNqLcX"
      },
      "source": [
        "ここで、`a` と `b` は等価でなくなりました。"
      ]
    },
    {
      "cell_type": "code",
      "metadata": {
        "id": "rlfTgvalqLcX",
        "outputId": "7b51b1ad-ce30-48ce-f0dc-934c274019ad",
        "colab": {
          "base_uri": "https://localhost:8080/"
        }
      },
      "source": [
        "a == b"
      ],
      "execution_count": 173,
      "outputs": [
        {
          "output_type": "execute_result",
          "data": {
            "text/plain": [
              "False"
            ]
          },
          "metadata": {
            "tags": []
          },
          "execution_count": 173
        }
      ]
    },
    {
      "cell_type": "markdown",
      "metadata": {
        "id": "IJAIVDIQqLcY"
      },
      "source": [
        "次に、`b` を要素として二重に含むリスト `d` を作ります。"
      ]
    },
    {
      "cell_type": "code",
      "metadata": {
        "id": "mXPKHDdhqLcY",
        "outputId": "05a942f3-e28f-4c15-a71c-33ee1aad615a",
        "colab": {
          "base_uri": "https://localhost:8080/"
        }
      },
      "source": [
        "d = [b, b]\n",
        "d"
      ],
      "execution_count": 174,
      "outputs": [
        {
          "output_type": "execute_result",
          "data": {
            "text/plain": [
              "[[], []]"
            ]
          },
          "metadata": {
            "tags": []
          },
          "execution_count": 174
        }
      ]
    },
    {
      "cell_type": "code",
      "metadata": {
        "id": "FUNG2gJ1qLcY",
        "outputId": "6fbded5a-2803-43cf-d4ed-c4b3f5cf1879",
        "colab": {
          "base_uri": "https://localhost:8080/"
        }
      },
      "source": [
        "d[0] is d[1]"
      ],
      "execution_count": 175,
      "outputs": [
        {
          "output_type": "execute_result",
          "data": {
            "text/plain": [
              "True"
            ]
          },
          "metadata": {
            "tags": []
          },
          "execution_count": 175
        }
      ]
    },
    {
      "cell_type": "markdown",
      "metadata": {
        "id": "-Cc6pMVSqLcZ"
      },
      "source": [
        "`b` を変化させてみましょう。"
      ]
    },
    {
      "cell_type": "code",
      "metadata": {
        "id": "7wLEbLDKqLcZ",
        "outputId": "634bcff7-9a27-429d-a96e-7d6ab1503569",
        "colab": {
          "base_uri": "https://localhost:8080/"
        }
      },
      "source": [
        "b.append(1)\n",
        "b"
      ],
      "execution_count": 176,
      "outputs": [
        {
          "output_type": "execute_result",
          "data": {
            "text/plain": [
              "[1]"
            ]
          },
          "metadata": {
            "tags": []
          },
          "execution_count": 176
        }
      ]
    },
    {
      "cell_type": "markdown",
      "metadata": {
        "id": "aaZXAtlZqLcZ"
      },
      "source": [
        "すると `d` は以下のようになります。"
      ]
    },
    {
      "cell_type": "code",
      "metadata": {
        "id": "UtgqG2qSqLcZ",
        "outputId": "ed1c5708-1031-4a1a-ee25-2958b4aa7d8a",
        "colab": {
          "base_uri": "https://localhost:8080/"
        }
      },
      "source": [
        "d"
      ],
      "execution_count": 177,
      "outputs": [
        {
          "output_type": "execute_result",
          "data": {
            "text/plain": [
              "[[1], [1]]"
            ]
          },
          "metadata": {
            "tags": []
          },
          "execution_count": 177
        }
      ]
    },
    {
      "cell_type": "markdown",
      "metadata": {
        "id": "JE5qghMXqLcZ"
      },
      "source": [
        "演算子 `==` でリストを比較すると、要素まで見て等価性を判定します。"
      ]
    },
    {
      "cell_type": "code",
      "metadata": {
        "id": "mFICn7fLqLcZ",
        "outputId": "bcd96414-a700-4c5c-e395-3b27387df129",
        "colab": {
          "base_uri": "https://localhost:8080/"
        }
      },
      "source": [
        "print(a, b)\n",
        "a == b"
      ],
      "execution_count": 178,
      "outputs": [
        {
          "output_type": "stream",
          "text": [
            "[1] [1]\n"
          ],
          "name": "stdout"
        },
        {
          "output_type": "execute_result",
          "data": {
            "text/plain": [
              "True"
            ]
          },
          "metadata": {
            "tags": []
          },
          "execution_count": 178
        }
      ]
    },
    {
      "cell_type": "markdown",
      "metadata": {
        "id": "o5U1ZCIzqLcZ"
      },
      "source": [
        "演算子 `==` は、要素の比較も `==` で行います。"
      ]
    },
    {
      "cell_type": "code",
      "metadata": {
        "id": "tg-9tv6TqLcZ",
        "outputId": "f18ea8d2-cc33-45dd-cfc5-0de3e36ca6f2",
        "colab": {
          "base_uri": "https://localhost:8080/"
        }
      },
      "source": [
        "print(c, d)\n",
        "c == d"
      ],
      "execution_count": 179,
      "outputs": [
        {
          "output_type": "stream",
          "text": [
            "[[1], [1]] [[1], [1]]\n"
          ],
          "name": "stdout"
        },
        {
          "output_type": "execute_result",
          "data": {
            "text/plain": [
              "True"
            ]
          },
          "metadata": {
            "tags": []
          },
          "execution_count": 179
        }
      ]
    },
    {
      "cell_type": "markdown",
      "metadata": {
        "id": "fDw6JKzlqLca"
      },
      "source": [
        "一方、オブジェクトの同一性は変化しません。"
      ]
    },
    {
      "cell_type": "code",
      "metadata": {
        "id": "k7wgsPICqLca",
        "outputId": "4547bf6f-6fe3-454b-9261-b9f30d2393db",
        "colab": {
          "base_uri": "https://localhost:8080/"
        }
      },
      "source": [
        "a is b"
      ],
      "execution_count": 180,
      "outputs": [
        {
          "output_type": "execute_result",
          "data": {
            "text/plain": [
              "False"
            ]
          },
          "metadata": {
            "tags": []
          },
          "execution_count": 180
        }
      ]
    },
    {
      "cell_type": "markdown",
      "metadata": {
        "id": "0eedJj-1qLca"
      },
      "source": [
        "`==` の否定形は `!=` で、`is` の否定形は **`is not`** です。\n",
        "`not x == y` は `x != y` と書けます。`not x is y` は `x is not y` と書けます。\n",
        "`is not` はこれで1つの演算子なので注意してください。"
      ]
    },
    {
      "cell_type": "code",
      "metadata": {
        "id": "uLtGSMoyqLca",
        "outputId": "96aefd20-b562-41b0-98eb-173e31dc9a9d",
        "colab": {
          "base_uri": "https://localhost:8080/"
        }
      },
      "source": [
        "c != d"
      ],
      "execution_count": 181,
      "outputs": [
        {
          "output_type": "execute_result",
          "data": {
            "text/plain": [
              "False"
            ]
          },
          "metadata": {
            "tags": []
          },
          "execution_count": 181
        }
      ]
    },
    {
      "cell_type": "code",
      "metadata": {
        "id": "1bUHNOa4qLca",
        "outputId": "23ea3ab0-7379-4d20-fbd6-7f017f1069ec",
        "colab": {
          "base_uri": "https://localhost:8080/"
        }
      },
      "source": [
        "a is not b"
      ],
      "execution_count": 182,
      "outputs": [
        {
          "output_type": "execute_result",
          "data": {
            "text/plain": [
              "True"
            ]
          },
          "metadata": {
            "tags": []
          },
          "execution_count": 182
        }
      ]
    },
    {
      "cell_type": "markdown",
      "metadata": {
        "id": "IJtSz7cBqLca"
      },
      "source": [
        "## 練習の解答"
      ]
    },
    {
      "cell_type": "code",
      "metadata": {
        "id": "GkJKQv1fqLca"
      },
      "source": [
        "def remove_evenindex(ln):\n",
        "    ln2 = ln[1::2]\n",
        "    return ln2\n",
        "#remove_evenindex(['a', 'b', 'c', 'd', 'e', 'f', 'g'])"
      ],
      "execution_count": null,
      "outputs": []
    },
    {
      "cell_type": "code",
      "metadata": {
        "id": "ijELFKcYqLcb"
      },
      "source": [
        "def count_words(str_engsentences):\n",
        "    list_str1 = str_engsentences.split(' ')\n",
        "    return len(list_str1)\n",
        "#count_words('From Stettin in the Baltic to Trieste in the Adriatic an iron curtain has descended across the Continent.')"
      ],
      "execution_count": null,
      "outputs": []
    },
    {
      "cell_type": "code",
      "metadata": {
        "id": "HYLZ7BrxqLcb"
      },
      "source": [
        "def reverse_totuple(ln):\n",
        "    ln.reverse()\n",
        "    tup = tuple(ln)\n",
        "    return tup\n",
        "#reverse_totuple([1, 2, 3, 4, 5])"
      ],
      "execution_count": null,
      "outputs": []
    },
    {
      "cell_type": "code",
      "metadata": {
        "id": "c7K10Fh0qLcb"
      },
      "source": [
        "def sum_list(ln):\n",
        "    int_sum = 0\n",
        "    for value in ln:\n",
        "        int_sum += value\n",
        "    return int_sum\n",
        "#sum_list([10, 20, 30])"
      ],
      "execution_count": null,
      "outputs": []
    },
    {
      "cell_type": "code",
      "metadata": {
        "id": "UyQSompjqLcb"
      },
      "source": [
        "def atgc_countlist(str_atgc):\n",
        "    list_count = []\n",
        "    for value in 'ATGC':\n",
        "        int_bpcnt = str_atgc.count(value)\n",
        "        list_count.append([int_bpcnt, value])\n",
        "    return list_count\n",
        "#atgc_countlist('AAGCCCCATGGTAA') "
      ],
      "execution_count": null,
      "outputs": []
    },
    {
      "cell_type": "code",
      "metadata": {
        "id": "awFOU84uqLcb"
      },
      "source": [
        ""
      ],
      "execution_count": null,
      "outputs": []
    }
  ]
}