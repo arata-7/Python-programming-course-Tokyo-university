{
  "nbformat": 4,
  "nbformat_minor": 0,
  "metadata": {
    "kernelspec": {
      "display_name": "Python 3",
      "language": "python",
      "name": "python3"
    },
    "language_info": {
      "name": ""
    },
    "colab": {
      "name": "3-1.ipynb",
      "provenance": [],
      "include_colab_link": true
    }
  },
  "cells": [
    {
      "cell_type": "markdown",
      "metadata": {
        "id": "view-in-github",
        "colab_type": "text"
      },
      "source": [
        "<a href=\"https://colab.research.google.com/github/arata-7/Python-programming-course-Tokyo-university/blob/main/colab/3/3-1_dict.ipynb\" target=\"_parent\"><img src=\"https://colab.research.google.com/assets/colab-badge.svg\" alt=\"Open In Colab\"/></a>"
      ]
    },
    {
      "cell_type": "markdown",
      "metadata": {
        "id": "oFpxBdtVMoJS"
      },
      "source": [
        "# 3-1. 辞書 (dictionary)\n",
        "キーと値を対応させるデータ構造である辞書について説明します。\n",
        "\n",
        "参考\n",
        "\n",
        "- https://docs.python.org/ja/3/tutorial/datastructures.html#dictionaries\n",
        "\n",
        "**辞書**は、**キー** (**key**) と**値** (**value**) を対応づけるデータです。\n",
        "キーとしては、文字列・数値・タプルなどの変更不可能なデータを使うことができますが、\n",
        "変更可能なデータであるリスト・辞書を使うことはできません。\n",
        "（辞書も変更可能なデータです。）\n",
        "一方、値としては、変更の可否にかかわらずあらゆる種類のデータを指定できます。\n",
        "\n",
        "たとえば、文字列 `'apple'` をキーとし値として数値 `3` を、`'pen'` をキーとして `5` を対応付けた辞書は、\n",
        "次のように作成します。"
      ]
    },
    {
      "cell_type": "code",
      "metadata": {
        "id": "R76fZUYuMoJU",
        "outputId": "83b5b807-9f83-4e67-da31-a0bb83ba9d63",
        "colab": {
          "base_uri": "https://localhost:8080/"
        }
      },
      "source": [
        "ppap = {'apple' : 3, 'pen' : 5}\n",
        "ppap"
      ],
      "execution_count": 2,
      "outputs": [
        {
          "output_type": "execute_result",
          "data": {
            "text/plain": [
              "{'apple': 3, 'pen': 5}"
            ]
          },
          "metadata": {
            "tags": []
          },
          "execution_count": 2
        }
      ]
    },
    {
      "cell_type": "code",
      "metadata": {
        "id": "-mB5HvvVMoJV",
        "outputId": "e1db2bf4-9d17-41c4-ea53-a91805044f41",
        "colab": {
          "base_uri": "https://localhost:8080/"
        }
      },
      "source": [
        "type(ppap)"
      ],
      "execution_count": 3,
      "outputs": [
        {
          "output_type": "execute_result",
          "data": {
            "text/plain": [
              "dict"
            ]
          },
          "metadata": {
            "tags": []
          },
          "execution_count": 3
        }
      ]
    },
    {
      "cell_type": "markdown",
      "metadata": {
        "id": "4C-dr8AMMoJV"
      },
      "source": [
        "辞書の `キー1` に対応する値を得るには、リストにおけるインデックスと同様に、\n",
        "\n",
        "---\n",
        "```Python\n",
        " 辞書[キー1]\n",
        "```\n",
        "---\n",
        "\n",
        "とします。"
      ]
    },
    {
      "cell_type": "code",
      "metadata": {
        "id": "Y-JjnTJuMoJW",
        "outputId": "a7854044-8a84-4cb9-fc28-02b7b4360bbd",
        "colab": {
          "base_uri": "https://localhost:8080/"
        }
      },
      "source": [
        "ppap = {'apple' : 3, 'pen' : 5}\n",
        "ppap['apple']"
      ],
      "execution_count": 4,
      "outputs": [
        {
          "output_type": "execute_result",
          "data": {
            "text/plain": [
              "3"
            ]
          },
          "metadata": {
            "tags": []
          },
          "execution_count": 4
        }
      ]
    },
    {
      "cell_type": "markdown",
      "metadata": {
        "id": "0bmrx2XaMoJW"
      },
      "source": [
        "辞書に登録されていないキーを指定すると、エラーになります。"
      ]
    },
    {
      "cell_type": "code",
      "metadata": {
        "tags": [
          "raises-exception"
        ],
        "id": "viT4An3IMoJW",
        "outputId": "253016ea-c41a-46f2-9b18-3d1545c88a1e",
        "colab": {
          "base_uri": "https://localhost:8080/",
          "height": 168
        }
      },
      "source": [
        "ppap['orange']"
      ],
      "execution_count": 5,
      "outputs": [
        {
          "output_type": "error",
          "ename": "KeyError",
          "evalue": "ignored",
          "traceback": [
            "\u001b[0;31m---------------------------------------------------------------------------\u001b[0m",
            "\u001b[0;31mKeyError\u001b[0m                                  Traceback (most recent call last)",
            "\u001b[0;32m<ipython-input-5-f7d700f1de78>\u001b[0m in \u001b[0;36m<module>\u001b[0;34m()\u001b[0m\n\u001b[0;32m----> 1\u001b[0;31m \u001b[0mppap\u001b[0m\u001b[0;34m[\u001b[0m\u001b[0;34m'orange'\u001b[0m\u001b[0;34m]\u001b[0m\u001b[0;34m\u001b[0m\u001b[0;34m\u001b[0m\u001b[0m\n\u001b[0m",
            "\u001b[0;31mKeyError\u001b[0m: 'orange'"
          ]
        }
      ]
    },
    {
      "cell_type": "markdown",
      "metadata": {
        "id": "eI9f5dU6MoJX"
      },
      "source": [
        "キーに対する値を変更したり、新たなキーと値を登録するには代入文を用います。"
      ]
    },
    {
      "cell_type": "code",
      "metadata": {
        "id": "Ec7e-43BMoJX",
        "outputId": "a1c0f8d6-351b-48c7-e511-ee8fa4926672",
        "colab": {
          "base_uri": "https://localhost:8080/"
        }
      },
      "source": [
        "ppap = {'apple' : 3, 'pen' : 5}\n",
        "ppap['apple'] = 10\n",
        "ppap['pinapple'] = 7\n",
        "ppap"
      ],
      "execution_count": 6,
      "outputs": [
        {
          "output_type": "execute_result",
          "data": {
            "text/plain": [
              "{'apple': 10, 'pen': 5, 'pinapple': 7}"
            ]
          },
          "metadata": {
            "tags": []
          },
          "execution_count": 6
        }
      ]
    },
    {
      "cell_type": "markdown",
      "metadata": {
        "id": "r_uVQmkKMoJX"
      },
      "source": [
        "上のようにキーから値は取り出せますが、値からキーを直接取り出すことはできません。\n",
        "また、リストのようにインデックスを指定して値を取得することはできません。"
      ]
    },
    {
      "cell_type": "code",
      "metadata": {
        "tags": [
          "raises-exception"
        ],
        "id": "LbQAR6yuMoJX",
        "outputId": "b154ac96-aa7b-47a3-b07e-d8a4dcc73aa5",
        "colab": {
          "base_uri": "https://localhost:8080/",
          "height": 168
        }
      },
      "source": [
        "ppap[1]"
      ],
      "execution_count": 7,
      "outputs": [
        {
          "output_type": "error",
          "ename": "KeyError",
          "evalue": "ignored",
          "traceback": [
            "\u001b[0;31m---------------------------------------------------------------------------\u001b[0m",
            "\u001b[0;31mKeyError\u001b[0m                                  Traceback (most recent call last)",
            "\u001b[0;32m<ipython-input-7-a560878f1de9>\u001b[0m in \u001b[0;36m<module>\u001b[0;34m()\u001b[0m\n\u001b[0;32m----> 1\u001b[0;31m \u001b[0mppap\u001b[0m\u001b[0;34m[\u001b[0m\u001b[0;36m1\u001b[0m\u001b[0;34m]\u001b[0m\u001b[0;34m\u001b[0m\u001b[0;34m\u001b[0m\u001b[0m\n\u001b[0m",
            "\u001b[0;31mKeyError\u001b[0m: 1"
          ]
        }
      ]
    },
    {
      "cell_type": "markdown",
      "metadata": {
        "id": "b_UvM9xOMoJY"
      },
      "source": [
        "キーが辞書に登録されているかどうかは、演算子 **`in`** を用いて調べることができます。"
      ]
    },
    {
      "cell_type": "code",
      "metadata": {
        "id": "UlQ4v5gYMoJY",
        "outputId": "cc70137a-c8f4-474b-f603-6c16b08d9e8b",
        "colab": {
          "base_uri": "https://localhost:8080/"
        }
      },
      "source": [
        "ppap = {'apple': 3, 'pen': 5}\n",
        "'apple' in ppap"
      ],
      "execution_count": 8,
      "outputs": [
        {
          "output_type": "execute_result",
          "data": {
            "text/plain": [
              "True"
            ]
          },
          "metadata": {
            "tags": []
          },
          "execution_count": 8
        }
      ]
    },
    {
      "cell_type": "code",
      "metadata": {
        "id": "VPNGpK6PMoJY",
        "outputId": "1d27ee1e-a2ca-46a2-a40e-2e182ed1fe01",
        "colab": {
          "base_uri": "https://localhost:8080/"
        }
      },
      "source": [
        "'banana' in ppap"
      ],
      "execution_count": 9,
      "outputs": [
        {
          "output_type": "execute_result",
          "data": {
            "text/plain": [
              "False"
            ]
          },
          "metadata": {
            "tags": []
          },
          "execution_count": 9
        }
      ]
    },
    {
      "cell_type": "markdown",
      "metadata": {
        "id": "YheyJlTwMoJY"
      },
      "source": [
        "組み込み関数 **`len`** によって、辞書に登録されている要素、キーと値のペア、の数が得られます。"
      ]
    },
    {
      "cell_type": "code",
      "metadata": {
        "id": "7NGSrBviMoJY",
        "outputId": "e33daa00-bc21-4539-d7d5-7bc2bed76bc8",
        "colab": {
          "base_uri": "https://localhost:8080/"
        }
      },
      "source": [
        "ppap = {'apple': 3, 'pen': 5}\n",
        "len(ppap)"
      ],
      "execution_count": 10,
      "outputs": [
        {
          "output_type": "execute_result",
          "data": {
            "text/plain": [
              "2"
            ]
          },
          "metadata": {
            "tags": []
          },
          "execution_count": 10
        }
      ]
    },
    {
      "cell_type": "markdown",
      "metadata": {
        "id": "tPnZAjcmMoJZ"
      },
      "source": [
        "**`del`** 文によって、登録されているキーの要素を削除することができます。具体的には、次のように削除します。\n",
        "\n",
        "---\n",
        "```Python\n",
        "del 辞書[削除したいキー]\n",
        "```\n",
        "---"
      ]
    },
    {
      "cell_type": "code",
      "metadata": {
        "id": "RKORVRAqMoJZ",
        "outputId": "72f018fe-4d91-43ff-c65e-bc976acab553",
        "colab": {
          "base_uri": "https://localhost:8080/"
        }
      },
      "source": [
        "ppap = {'apple' : 3, 'pen' : 5}\n",
        "del ppap['pen']\n",
        "ppap"
      ],
      "execution_count": 11,
      "outputs": [
        {
          "output_type": "execute_result",
          "data": {
            "text/plain": [
              "{'apple': 3}"
            ]
          },
          "metadata": {
            "tags": []
          },
          "execution_count": 11
        }
      ]
    },
    {
      "cell_type": "markdown",
      "metadata": {
        "id": "03H47NS-MoJZ"
      },
      "source": [
        "空のリストと同様に空の辞書を作ることもできます。このような空のデータは繰り返し処理でしばしば使われます。"
      ]
    },
    {
      "cell_type": "code",
      "metadata": {
        "id": "NgeeYBkNMoJZ",
        "outputId": "deefd544-397f-4690-aafe-8a7faa2309c2",
        "colab": {
          "base_uri": "https://localhost:8080/"
        }
      },
      "source": [
        "empty_d = {}\n",
        "empty_d"
      ],
      "execution_count": 12,
      "outputs": [
        {
          "output_type": "execute_result",
          "data": {
            "text/plain": [
              "{}"
            ]
          },
          "metadata": {
            "tags": []
          },
          "execution_count": 12
        }
      ]
    },
    {
      "cell_type": "markdown",
      "metadata": {
        "id": "nhhflfQvMoJZ"
      },
      "source": [
        "## 練習\n",
        "\n",
        "リスト `list1` が引数として与えられたとき、`list1` の各要素 `value` をキー、` value` の `list1` におけるインデックスをキーに対応する値とした辞書を返す関数 `reverse_lookup` を作成してください。\n",
        "\n",
        "以下のセルの `...` のところを書き換えて `reverse_lookup(list1)` を作成してください。"
      ]
    },
    {
      "cell_type": "code",
      "metadata": {
        "id": "kt_QaG4-MoJa"
      },
      "source": [
        "def reverse_lookup(list1):\n",
        "    index = 0\n",
        "    return_dict = {}\n",
        "    for value in list1:\n",
        "      return_dict[value] = index #l list1.index(value) is also possible to use.\n",
        "      index += 1\n",
        "    return return_dict"
      ],
      "execution_count": 21,
      "outputs": []
    },
    {
      "cell_type": "markdown",
      "metadata": {
        "id": "AcFLNc8qMoJa"
      },
      "source": [
        "上のセルで解答を作成した後、以下のセルを実行し、実行結果が `True` になることを確認してください。"
      ]
    },
    {
      "cell_type": "code",
      "metadata": {
        "id": "yMDI9yl6MoJa",
        "outputId": "bd8cb36f-ffb9-4d5f-a7dc-e939126906f5",
        "colab": {
          "base_uri": "https://localhost:8080/"
        }
      },
      "source": [
        "print(reverse_lookup(['apple', 'pen', 'orange']) == {'apple': 0, 'orange': 2, 'pen': 1})"
      ],
      "execution_count": 22,
      "outputs": [
        {
          "output_type": "stream",
          "text": [
            "True\n"
          ],
          "name": "stdout"
        }
      ]
    },
    {
      "cell_type": "markdown",
      "metadata": {
        "id": "WLBa8FIpMoJa"
      },
      "source": [
        "## 辞書のメソッド\n",
        "辞書のメソッドを紹介しておきます。"
      ]
    },
    {
      "cell_type": "markdown",
      "metadata": {
        "id": "oB64LffXMoJa"
      },
      "source": [
        "### キーを指定して値を得るメソッド\n",
        "\n",
        "**`get`** メソッドは、引数として指定したキーが辞書に含まれてる場合にはその値を取得し、\n",
        "指定したキーが含まれていない場合には `None` を返します。\n",
        "`get` を利用することで、エラーを回避し、登録されているかどうかわからないキーを使うことができます。\n",
        "先に説明したキーを括弧、`[...]`、で指定する方法では、\n",
        "辞書にキーが存在しないとエラーとなりプログラムの実行が停止してしまいます。"
      ]
    },
    {
      "cell_type": "code",
      "metadata": {
        "tags": [
          "raises-exception"
        ],
        "id": "Rz2qbr4NMoJa",
        "outputId": "5c795cc7-5736-4149-80dc-147149e47f46",
        "colab": {
          "base_uri": "https://localhost:8080/",
          "height": 236
        }
      },
      "source": [
        "ppap = {'apple' : 3, 'pen' : 5}\n",
        "print('キーappleに対応する値 = ', ppap.get('apple'))\n",
        "print('キーorangeに対応する値 = ', ppap.get('orange'))\n",
        "print('キーorangeに対応する値（エラー） = ', ppap['orange'])"
      ],
      "execution_count": 36,
      "outputs": [
        {
          "output_type": "stream",
          "text": [
            "キーappleに対応する値 =  3\n",
            "キーorangeに対応する値 =  None\n"
          ],
          "name": "stdout"
        },
        {
          "output_type": "error",
          "ename": "KeyError",
          "evalue": "ignored",
          "traceback": [
            "\u001b[0;31m---------------------------------------------------------------------------\u001b[0m",
            "\u001b[0;31mKeyError\u001b[0m                                  Traceback (most recent call last)",
            "\u001b[0;32m<ipython-input-36-a70752670fa0>\u001b[0m in \u001b[0;36m<module>\u001b[0;34m()\u001b[0m\n\u001b[1;32m      2\u001b[0m \u001b[0mprint\u001b[0m\u001b[0;34m(\u001b[0m\u001b[0;34m'キーappleに対応する値 = '\u001b[0m\u001b[0;34m,\u001b[0m \u001b[0mppap\u001b[0m\u001b[0;34m.\u001b[0m\u001b[0mget\u001b[0m\u001b[0;34m(\u001b[0m\u001b[0;34m'apple'\u001b[0m\u001b[0;34m)\u001b[0m\u001b[0;34m)\u001b[0m\u001b[0;34m\u001b[0m\u001b[0;34m\u001b[0m\u001b[0m\n\u001b[1;32m      3\u001b[0m \u001b[0mprint\u001b[0m\u001b[0;34m(\u001b[0m\u001b[0;34m'キーorangeに対応する値 = '\u001b[0m\u001b[0;34m,\u001b[0m \u001b[0mppap\u001b[0m\u001b[0;34m.\u001b[0m\u001b[0mget\u001b[0m\u001b[0;34m(\u001b[0m\u001b[0;34m'orange'\u001b[0m\u001b[0;34m)\u001b[0m\u001b[0;34m)\u001b[0m\u001b[0;34m\u001b[0m\u001b[0;34m\u001b[0m\u001b[0m\n\u001b[0;32m----> 4\u001b[0;31m \u001b[0mprint\u001b[0m\u001b[0;34m(\u001b[0m\u001b[0;34m'キーorangeに対応する値（エラー） = '\u001b[0m\u001b[0;34m,\u001b[0m \u001b[0mppap\u001b[0m\u001b[0;34m[\u001b[0m\u001b[0;34m'orange'\u001b[0m\u001b[0;34m]\u001b[0m\u001b[0;34m)\u001b[0m\u001b[0;34m\u001b[0m\u001b[0;34m\u001b[0m\u001b[0m\n\u001b[0m",
            "\u001b[0;31mKeyError\u001b[0m: 'orange'"
          ]
        }
      ]
    },
    {
      "cell_type": "markdown",
      "metadata": {
        "id": "nVDyqtrjMoJb"
      },
      "source": [
        "また、`get` に2番目の引数を与えると、その引数の値を「指定したキーが含まれていない場合」に `get` が返す値とすることができます。"
      ]
    },
    {
      "cell_type": "code",
      "metadata": {
        "id": "mNk3BeDlMoJb",
        "outputId": "88f8bd6a-530e-47a5-cceb-5fc83922bd9c",
        "colab": {
          "base_uri": "https://localhost:8080/"
        }
      },
      "source": [
        "ppap = {'apple' : 3, 'pen' : 5}\n",
        "print('キーappleに対応する値 = ', ppap.get('apple', -1))\n",
        "print('キーorangeに対応する値 = ', ppap.get('orange', -1))"
      ],
      "execution_count": 37,
      "outputs": [
        {
          "output_type": "stream",
          "text": [
            "キーappleに対応する値 =  3\n",
            "キーorangeに対応する値 =  -1\n"
          ],
          "name": "stdout"
        }
      ]
    },
    {
      "cell_type": "markdown",
      "metadata": {
        "id": "A2Lqk2pgMoJb"
      },
      "source": [
        "### ▲キーがない場合に登録を行う\n",
        "\n",
        "**`setdefault`** メソッドは、\n",
        "指定したキーが辞書に含まれてる場合には、対応する値を返します。 \n",
        "キーが含まれていない場合には、2番目の引数として指定した値を返すと同時に、キーに対応する値として登録します。"
      ]
    },
    {
      "cell_type": "code",
      "metadata": {
        "id": "JsMXnmpiMoJb",
        "outputId": "cef44d7a-df01-4e36-9d64-759580ec4164",
        "colab": {
          "base_uri": "https://localhost:8080/"
        }
      },
      "source": [
        "ppap = {'apple' : 3, 'pen' : 5}\n",
        "print('キーappleに対応する値 = ', ppap.setdefault('apple', 7))\n",
        "print('setdefault(\"apple\", 7)を実行後の辞書 = ', ppap)\n",
        "print('キーorangeに対応する値 = ', ppap.setdefault('orange', 7))\n",
        "print('setdefault(\"orange\", 7)を実行後の辞書 = ', ppap)"
      ],
      "execution_count": 39,
      "outputs": [
        {
          "output_type": "stream",
          "text": [
            "キーappleに対応する値 =  3\n",
            "setdefault(\"apple\", 7)を実行後の辞書 =  {'apple': 3, 'pen': 5}\n",
            "キーorangeに対応する値 =  7\n",
            "setdefault(\"orange\", 7)を実行後の辞書 =  {'apple': 3, 'pen': 5, 'orange': 7}\n"
          ],
          "name": "stdout"
        }
      ]
    },
    {
      "cell_type": "markdown",
      "metadata": {
        "id": "t3G4XnLBMoJb"
      },
      "source": [
        "`setdefault` を用いた手続きを `get` を用いて書き換えるとたとえば次のようになります。"
      ]
    },
    {
      "cell_type": "code",
      "metadata": {
        "id": "A5t-oQZdMoJc",
        "outputId": "2b0ceb60-baea-40ce-ab82-536a3c7b8a78",
        "colab": {
          "base_uri": "https://localhost:8080/"
        }
      },
      "source": [
        "ppap = {'apple' : 3, 'pen' : 5}\n",
        "if 'apple' not in ppap:\n",
        "    ppap['apple'] = 7\n",
        "print('キーappleに対応する値 = ', ppap['apple'])\n",
        "if 'orange' not in ppap:\n",
        "    ppap['orange'] = 7\n",
        "print('キーorangeに対応する値 = ', ppap['orange'])"
      ],
      "execution_count": 40,
      "outputs": [
        {
          "output_type": "stream",
          "text": [
            "キーappleに対応する値 =  3\n",
            "キーorangeに対応する値 =  7\n"
          ],
          "name": "stdout"
        }
      ]
    },
    {
      "cell_type": "markdown",
      "metadata": {
        "id": "Jy_YnqmjMoJc"
      },
      "source": [
        "### ▲キーを指定した削除\n",
        "\n",
        "**`pop`** メソッドは指定したキーおよびそれに対応する値を削除し、削除されるキーに対応付けられた値を返します。"
      ]
    },
    {
      "cell_type": "code",
      "metadata": {
        "id": "FInt1aWwMoJc",
        "outputId": "02154661-031a-4751-b335-825e20bc51e2",
        "colab": {
          "base_uri": "https://localhost:8080/"
        }
      },
      "source": [
        "ppap = {'apple' : 3, 'pen' : 5}\n",
        "print(ppap.pop('pen'))\n",
        "print(ppap)"
      ],
      "execution_count": 41,
      "outputs": [
        {
          "output_type": "stream",
          "text": [
            "5\n",
            "{'apple': 3}\n"
          ],
          "name": "stdout"
        }
      ]
    },
    {
      "cell_type": "markdown",
      "metadata": {
        "id": "ngZd8PDDMoJc"
      },
      "source": [
        "### ▲全てのキーと値の削除\n",
        "**`clear`** メソッドは全てのキーと値を削除します。その結果、辞書は空となります。"
      ]
    },
    {
      "cell_type": "code",
      "metadata": {
        "id": "a7k8trNDMoJc",
        "outputId": "f20b3886-84cd-4834-f3bb-2d2f8e7676cd",
        "colab": {
          "base_uri": "https://localhost:8080/"
        }
      },
      "source": [
        "ppap = {'apple' : 3, 'pen' : 5}\n",
        "ppap.clear()\n",
        "ppap"
      ],
      "execution_count": 42,
      "outputs": [
        {
          "output_type": "execute_result",
          "data": {
            "text/plain": [
              "{}"
            ]
          },
          "metadata": {
            "tags": []
          },
          "execution_count": 42
        }
      ]
    },
    {
      "cell_type": "markdown",
      "metadata": {
        "id": "wqXa7R88MoJc"
      },
      "source": [
        "### キーの一覧を得る\n",
        "**`keys`** メソッドはキーの一覧を返します。これはリストのようなものとして扱うことができ、\n",
        "`for` ループと組み合わせて繰り返し処理で利用されます（3-2を参照してください）。\n",
        "以下のように、**`keys`** メソッドが返した結果に関数 `list` を適用すると、\n",
        "通常のリストになります。"
      ]
    },
    {
      "cell_type": "code",
      "metadata": {
        "id": "Hu_3UrDOMoJd",
        "outputId": "2d070bd4-d714-47d4-c6d6-48fd88a84a4b",
        "colab": {
          "base_uri": "https://localhost:8080/"
        }
      },
      "source": [
        "ppap = {'apple' : 3, 'pen' : 5}\n",
        "list(ppap.keys())"
      ],
      "execution_count": 43,
      "outputs": [
        {
          "output_type": "execute_result",
          "data": {
            "text/plain": [
              "['apple', 'pen']"
            ]
          },
          "metadata": {
            "tags": []
          },
          "execution_count": 43
        }
      ]
    },
    {
      "cell_type": "markdown",
      "metadata": {
        "id": "zLY7vXuqMoJd"
      },
      "source": [
        "### 値の一覧を得る\n",
        "**`values`** メソッドはキーに対応する全ての値の一覧を返します。これもリストのようなものとして扱うことができます。"
      ]
    },
    {
      "cell_type": "code",
      "metadata": {
        "id": "JEyfLVTiMoJd",
        "outputId": "0efdb0a9-4662-4958-bdee-d5c3c8486afb",
        "colab": {
          "base_uri": "https://localhost:8080/"
        }
      },
      "source": [
        "list(ppap.values())"
      ],
      "execution_count": 44,
      "outputs": [
        {
          "output_type": "execute_result",
          "data": {
            "text/plain": [
              "[3, 5]"
            ]
          },
          "metadata": {
            "tags": []
          },
          "execution_count": 44
        }
      ]
    },
    {
      "cell_type": "markdown",
      "metadata": {
        "id": "FqqS6StHMoJd"
      },
      "source": [
        "### キーと値の一覧を得る\n",
        "**`items`** メソッドはキーとそれに対応する値をタプルにした一覧を返します。 これもタプルを要素とするリストのようなものとして扱うことができ、forループなどで活用します（3-2を参照してください）。"
      ]
    },
    {
      "cell_type": "code",
      "metadata": {
        "id": "6MVABShlMoJd",
        "outputId": "88e9b963-2495-41e3-e07c-1f010183d04d",
        "colab": {
          "base_uri": "https://localhost:8080/"
        }
      },
      "source": [
        "list(ppap.items())"
      ],
      "execution_count": 45,
      "outputs": [
        {
          "output_type": "execute_result",
          "data": {
            "text/plain": [
              "[('apple', 3), ('pen', 5)]"
            ]
          },
          "metadata": {
            "tags": []
          },
          "execution_count": 45
        }
      ]
    },
    {
      "cell_type": "markdown",
      "metadata": {
        "id": "RUGBjOQ5MoJd"
      },
      "source": [
        "### ▲辞書を複製する\n",
        "**`copy`** メソッドは辞書を複製します。リストの場合と同様に一方の辞書を変更してももう一方の辞書は影響を受けません。"
      ]
    },
    {
      "cell_type": "code",
      "metadata": {
        "id": "7dSlxiAeMoJd",
        "outputId": "f567979b-94d2-4957-8936-c4d89761e474",
        "colab": {
          "base_uri": "https://localhost:8080/"
        }
      },
      "source": [
        "ppap = {'apple': 3, 'pen': 5, 'orange': 7}\n",
        "ppap2 = ppap.copy()\n",
        "ppap['banana'] = 9\n",
        "print(ppap)\n",
        "print(ppap2)"
      ],
      "execution_count": 46,
      "outputs": [
        {
          "output_type": "stream",
          "text": [
            "{'apple': 3, 'pen': 5, 'orange': 7, 'banana': 9}\n",
            "{'apple': 3, 'pen': 5, 'orange': 7}\n"
          ],
          "name": "stdout"
        }
      ]
    },
    {
      "cell_type": "markdown",
      "metadata": {
        "id": "nV6YclbiMoJe"
      },
      "source": [
        "### ▲ ` keys`, `values`, `items` の返値\n",
        "`keys`, `values`, `items` メソッドの一連の説明では、返値を「リストのようなもの」と表現してきました。\n",
        "通常のリストとどう違うのでしょうか？\n",
        "\n",
        "次の例では、`ppap` の `keys`, `values`, `items` メソッドの返値をそれぞれ `ks`, `vs`, `itms` に代入し、\n",
        "`print` でそれぞれの内容を表示させています。\n",
        "\n",
        "次いで、`ppap` に新たな要素を加えたのちに、同じ変数の内容を表示させています。 \n",
        "1, 2回目の `print` で内容が異なることに注意してください。\n",
        "もとの辞書が更新されると、これらの内容も動的に変わります。  "
      ]
    },
    {
      "cell_type": "code",
      "metadata": {
        "id": "Uejm-yFIMoJe",
        "outputId": "76acb8ef-c0fc-43d4-dd2c-90dc61969eab",
        "colab": {
          "base_uri": "https://localhost:8080/"
        }
      },
      "source": [
        "ppap = {'apple': 3, 'pen': 5, 'orange': 7}\n",
        "ks = ppap.keys()\n",
        "vs = ppap.values()\n",
        "itms = ppap.items()\n",
        "print(list(ks))\n",
        "print(list(vs))\n",
        "print(list(itms))\n",
        "ppap['kiwi'] = 9\n",
        "print(list(ks))\n",
        "print(list(vs))\n",
        "print(list(itms))"
      ],
      "execution_count": 47,
      "outputs": [
        {
          "output_type": "stream",
          "text": [
            "['apple', 'pen', 'orange']\n",
            "[3, 5, 7]\n",
            "[('apple', 3), ('pen', 5), ('orange', 7)]\n",
            "['apple', 'pen', 'orange', 'kiwi']\n",
            "[3, 5, 7, 9]\n",
            "[('apple', 3), ('pen', 5), ('orange', 7), ('kiwi', 9)]\n"
          ],
          "name": "stdout"
        }
      ]
    },
    {
      "cell_type": "markdown",
      "metadata": {
        "id": "l1vMAfpcMoJe"
      },
      "source": [
        "## 辞書とリスト"
      ]
    },
    {
      "cell_type": "markdown",
      "metadata": {
        "id": "1uZNmsLTMoJe"
      },
      "source": [
        "冒頭で述べたように、辞書では値としてあらゆる型のデータを使用できます。\n",
        "すなわち、次のように値としてリストを使用する辞書を作成可能です。\n",
        "リストの要素を参照するには数字インデックスをさらに指定します。"
      ]
    },
    {
      "cell_type": "code",
      "metadata": {
        "id": "iW9-qQxAMoJe",
        "outputId": "8b22ab6d-8616-41d5-e5e0-97af16f3f8b2",
        "colab": {
          "base_uri": "https://localhost:8080/"
        }
      },
      "source": [
        "numbers = {'dozens': [10, 20, 40], 'hundreds': [100, 101, 120, 140]}\n",
        "print(numbers['dozens'])\n",
        "print(numbers['dozens'][1])"
      ],
      "execution_count": 23,
      "outputs": [
        {
          "output_type": "stream",
          "text": [
            "[10, 20, 40]\n",
            "20\n"
          ],
          "name": "stdout"
        }
      ]
    },
    {
      "cell_type": "markdown",
      "metadata": {
        "id": "URSROQCjMoJf"
      },
      "source": [
        "逆に、辞書を要素とするリストを作成することもできます。"
      ]
    },
    {
      "cell_type": "code",
      "metadata": {
        "id": "vVjX-mdMMoJf",
        "outputId": "ea556238-1f9f-4f45-a497-aa34762145fd",
        "colab": {
          "base_uri": "https://localhost:8080/"
        }
      },
      "source": [
        "ppap = {'apple': 3, 'pen': 5}\n",
        "pets = {'cat': 3, 'dog': 3, 'elephant': 8}\n",
        "ld = [ppap, pets]\n",
        "print(ld[1])\n",
        "print(ld[1]['dog'])"
      ],
      "execution_count": 24,
      "outputs": [
        {
          "output_type": "stream",
          "text": [
            "{'cat': 3, 'dog': 3, 'elephant': 8}\n",
            "3\n"
          ],
          "name": "stdout"
        }
      ]
    },
    {
      "cell_type": "markdown",
      "metadata": {
        "id": "B3K3obUVMoJf"
      },
      "source": [
        "## 練習\n",
        "\n",
        "辞書 `dic1` と文字列 `str1` が引数として与えられたとき、\n",
        "以下のように `dic1` を変更する関数 `handle_collision` を作成してください。\n",
        "ただし、`dic1` のキーは整数、キーに対応する値は文字列を要素とするリストとします。\n",
        "\n",
        "1. `dic1` に `str1` の長さ `n` がキーとして登録されていない場合、`str1` のみを要素とするリスト `ls` を作成し、 `dic1` にキー `n`、`n` に対応する値 `ls` を登録します。\n",
        "2. `dic1` に `str1` の長さ `n` がキーとして登録されている場合、そのキーに対応する値（リスト）に `str1` を追加します。\n",
        "\n",
        "以下のセルの `...` のところを書き換えて `handle_collision(dic1, str1)` を作成してください。"
      ]
    },
    {
      "cell_type": "code",
      "metadata": {
        "id": "8XoSaCnzMoJf"
      },
      "source": [
        "def handle_collision(dic1, str1):\n",
        "  len_str1 = len(str1)\n",
        "  if dic1.get(len_str1) == None:\n",
        "      dic1[len_str1] = [str1]\n",
        "  else:\n",
        "      dic1[len_str1].append(str1)\n",
        "  return dic1"
      ],
      "execution_count": 34,
      "outputs": []
    },
    {
      "cell_type": "markdown",
      "metadata": {
        "id": "WtDrEuI8MoJf"
      },
      "source": [
        "上のセルで解答を作成した後、以下のセルを実行し、実行結果が `True` になることを確認してください。"
      ]
    },
    {
      "cell_type": "code",
      "metadata": {
        "id": "4paV0oEHMoJf",
        "outputId": "6af56d19-6951-48d3-a02f-1e17a49c6f64",
        "colab": {
          "base_uri": "https://localhost:8080/"
        }
      },
      "source": [
        "dic1_orig = {3: ['ham', 'egg'], 6: ['coffee', 'brandy'], 9: ['port wine'], 15: ['curried chicken']}\n",
        "dic1_result = {3: ['ham', 'egg', 'tea'], 6: ['coffee', 'brandy'], 9: ['port wine'], 15: ['curried chicken']}\n",
        "handle_collision(dic1_orig, 'tea')\n",
        "print(dic1_orig == dic1_result)"
      ],
      "execution_count": 35,
      "outputs": [
        {
          "output_type": "stream",
          "text": [
            "True\n"
          ],
          "name": "stdout"
        }
      ]
    },
    {
      "cell_type": "markdown",
      "metadata": {
        "id": "u7sFDRKwMoJg"
      },
      "source": [
        "## 練習の解答"
      ]
    },
    {
      "cell_type": "code",
      "metadata": {
        "id": "x56U1p_tMoJg"
      },
      "source": [
        "def reverse_lookup(list1):\n",
        "    dic1 = {}  # 空の辞書を作成する\n",
        "    for value in list1:\n",
        "        dic1[value] = list1.index(value)\n",
        "    return dic1\n",
        "#reverse_lookup(['apple', 'pen', 'orange'])"
      ],
      "execution_count": null,
      "outputs": []
    },
    {
      "cell_type": "code",
      "metadata": {
        "id": "uQOvF6FHMoJg"
      },
      "source": [
        "def handle_collision(dic1, str1):\n",
        "    if dic1.get(len(str1)) is None:\n",
        "        ls = [str1]\n",
        "    else:\n",
        "        ls = dic1[len(str1)]\n",
        "        ls.append(str1)\n",
        "    dic1[len(str1)] = ls\n",
        "#handle_collision({3: ['ham', 'egg'], 6: ['coffee', 'brandy'], 9: ['port wine'], 15: ['curried chicken']}, 'tea')"
      ],
      "execution_count": null,
      "outputs": []
    },
    {
      "cell_type": "code",
      "metadata": {
        "id": "o3_nIcUaMoJg"
      },
      "source": [
        ""
      ],
      "execution_count": null,
      "outputs": []
    }
  ]
}